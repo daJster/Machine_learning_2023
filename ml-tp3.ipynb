{
 "cells": [
  {
   "cell_type": "markdown",
   "id": "ecab76c9",
   "metadata": {
    "deletable": false,
    "editable": false,
    "nbgrader": {
     "cell_type": "markdown",
     "checksum": "e65edbd5cf32e5c518ba6e35476a450b",
     "grade": false,
     "grade_id": "cell-89d77a8dd5144af1",
     "locked": true,
     "schema_version": 3,
     "solution": false,
     "task": false
    },
    "tags": []
   },
   "source": [
    "# IS318 - Machine Learning\n",
    "\n",
    "## TP3 - SVM and bag of features\n",
    "\n",
    "In this TP, we will experiment with SVM classifiers. We will also work with K-Means clustering. We will apply these methods to a classical image classification approach called **bag of features**."
   ]
  },
  {
   "cell_type": "code",
   "execution_count": null,
   "id": "49ab21db-55bd-4e72-aee4-6b11f3b50aa3",
   "metadata": {
    "deletable": false,
    "editable": false,
    "nbgrader": {
     "cell_type": "code",
     "checksum": "0f1c9ce57002ca3c1856e31317f93305",
     "grade": false,
     "grade_id": "cell-f3c33065eeb72a47",
     "locked": true,
     "schema_version": 3,
     "solution": false,
     "task": false
    },
    "tags": []
   },
   "outputs": [],
   "source": [
    "import sklearn\n",
    "import sklearn.cluster\n",
    "import sklearn.datasets\n",
    "import sklearn.model_selection\n",
    "import skimage.feature\n",
    "import skimage.io\n",
    "from sklearn.svm import SVC"
   ]
  },
  {
   "cell_type": "markdown",
   "id": "08ab1d24-699f-46e9-afd2-f61378c3aa80",
   "metadata": {
    "deletable": false,
    "editable": false,
    "nbgrader": {
     "cell_type": "markdown",
     "checksum": "6a7f4b005d841cc872fa2c216ad5ac78",
     "grade": false,
     "grade_id": "cell-927bad7b2f5f126d",
     "locked": true,
     "schema_version": 3,
     "solution": false,
     "task": false
    },
    "tags": []
   },
   "source": [
    "### 1. Introduction to SVM\n",
    "\n",
    "In `scikit-learn` there exists several implementations of SVM. In this TP, we will use the `sklearn.svm.SVC` version, which allows to easily change the kernel used.\n",
    "\n",
    "We will work a dataset of small images of faces called **Olivetti faces**. It is composed of 400 images of size 64x64, depicting 40 different persons."
   ]
  },
  {
   "cell_type": "code",
   "execution_count": null,
   "id": "7a9190a8-79a7-4b70-90aa-a05fcd15378c",
   "metadata": {
    "deletable": false,
    "editable": false,
    "nbgrader": {
     "cell_type": "code",
     "checksum": "b13e2a1617c400e1944d06555e6fe409",
     "grade": false,
     "grade_id": "cell-f14b518a44ef255b",
     "locked": true,
     "schema_version": 3,
     "solution": false,
     "task": false
    },
    "tags": []
   },
   "outputs": [],
   "source": [
    "olivetti_faces_dataset = sklearn.datasets.fetch_olivetti_faces()"
   ]
  },
  {
   "cell_type": "markdown",
   "id": "4a2433d2-00e2-4700-9e6b-37604deae730",
   "metadata": {
    "deletable": false,
    "editable": false,
    "nbgrader": {
     "cell_type": "markdown",
     "checksum": "e21f4a6e238b1af214d84f6575ccd056",
     "grade": false,
     "grade_id": "cell-7363c13fcf561408",
     "locked": true,
     "schema_version": 3,
     "solution": false,
     "task": false
    },
    "tags": []
   },
   "source": [
    "**(Question)** Access the images and labels and set up an appropriate cross validation protocol.\n",
    "\n",
    "*Hint*: take a look at the `sklearn.model_selection` module. "
   ]
  },
  {
   "cell_type": "code",
   "execution_count": null,
   "id": "e45dd307-822e-4c3f-8c58-dbd78555ae61",
   "metadata": {
    "deletable": false,
    "nbgrader": {
     "cell_type": "code",
     "checksum": "8a3adfab97490947c83b058d64aafa42",
     "grade": true,
     "grade_id": "dataset-setup",
     "locked": false,
     "points": 1,
     "schema_version": 3,
     "solution": true,
     "task": false
    },
    "tags": []
   },
   "outputs": [],
   "source": [
    "# YOUR CODE HERE\n",
    "raise NotImplementedError()"
   ]
  },
  {
   "cell_type": "markdown",
   "id": "d4dba56b-14b2-448c-ad06-39f47f5113de",
   "metadata": {
    "deletable": false,
    "editable": false,
    "nbgrader": {
     "cell_type": "markdown",
     "checksum": "d8ddb9fa717fe88bbf99a48243340471",
     "grade": false,
     "grade_id": "cell-74f9f34e85450ad1",
     "locked": true,
     "schema_version": 3,
     "solution": false,
     "task": false
    },
    "tags": []
   },
   "source": [
    "**(Question)** Train a multi-class linear SVM classifier on this dataset with your cross-validation protocol. Report the classification accuracy on the validation/test set(s)."
   ]
  },
  {
   "cell_type": "code",
   "execution_count": null,
   "id": "c8edfb0b-c055-42f7-8ab6-2bed0d95c159",
   "metadata": {
    "deletable": false,
    "nbgrader": {
     "cell_type": "code",
     "checksum": "d23a8f6bc198c113378c72b618d040f5",
     "grade": true,
     "grade_id": "svm-train",
     "locked": false,
     "points": 2,
     "schema_version": 3,
     "solution": true,
     "task": false
    },
    "tags": []
   },
   "outputs": [],
   "source": [
    "# YOUR CODE HERE\n",
    "raise NotImplementedError()"
   ]
  },
  {
   "cell_type": "markdown",
   "id": "51a59423-e0ea-4e29-a6f4-58e9af4ca759",
   "metadata": {
    "deletable": false,
    "editable": false,
    "nbgrader": {
     "cell_type": "markdown",
     "checksum": "ef6119d30c73351ab265f9e74e752b6d",
     "grade": false,
     "grade_id": "cell-cc197141e732f3a8",
     "locked": true,
     "schema_version": 3,
     "solution": false,
     "task": false
    },
    "tags": []
   },
   "source": [
    "**(Question)** Experiment with different hyperparameters (notably the soft margin parameter $C$) and different kernels. Compare the results."
   ]
  },
  {
   "cell_type": "code",
   "execution_count": null,
   "id": "8e6e2ada-f2f1-4e19-82e2-bec6f6744cb2",
   "metadata": {
    "deletable": false,
    "nbgrader": {
     "cell_type": "code",
     "checksum": "7d7a85415967024f92b310e3518f032e",
     "grade": true,
     "grade_id": "svm-hyperparameters",
     "locked": false,
     "points": 2,
     "schema_version": 3,
     "solution": true,
     "task": false
    },
    "tags": []
   },
   "outputs": [],
   "source": [
    "# YOUR CODE HERE\n",
    "raise NotImplementedError()"
   ]
  },
  {
   "cell_type": "markdown",
   "id": "d9ec441d-bff5-4f14-98c5-41fe96fc7148",
   "metadata": {
    "deletable": false,
    "editable": false,
    "nbgrader": {
     "cell_type": "markdown",
     "checksum": "494671237f6cd26004bf202bd30a19e8",
     "grade": false,
     "grade_id": "cell-3b745e79f9056b17",
     "locked": true,
     "schema_version": 3,
     "solution": false,
     "task": false
    },
    "tags": []
   },
   "source": [
    "### 2. Scenes dataset\n",
    "\n",
    "For the rest of the TP, to experiment with bag of features, we will work with the 8-scenes dataset originally from: https://people.csail.mit.edu/torralba/code/spatialenvelope/\n",
    "\n",
    "It is provided as an archive file with this TP.\n",
    "\n",
    "The function below can be used to load the dataset images and labels:"
   ]
  },
  {
   "cell_type": "code",
   "execution_count": null,
   "id": "28970131-a618-4283-b339-aa42499e6ac7",
   "metadata": {
    "deletable": false,
    "editable": false,
    "nbgrader": {
     "cell_type": "code",
     "checksum": "e8a98e65e5dd2858d862d47c172881c1",
     "grade": false,
     "grade_id": "cell-4f6c512812af2feb",
     "locked": true,
     "schema_version": 3,
     "solution": false,
     "task": false
    },
    "tags": []
   },
   "outputs": [],
   "source": [
    "def load_scenes():\n",
    "    '''Return images and labels of the scenes dataset.'''\n",
    "    images = skimage.io.ImageCollection('scenes/*.jpg')\n",
    "    labels_names = [f.split('/')[-1].split('_')[0] for f in images.files]\n",
    "    unique_labels = sorted(list(set(labels_names)))\n",
    "    labels_dict = {label: i + 1 for (i, label) in enumerate(unique_labels)}\n",
    "    labels = np.array([labels_dict[label] for label in labels_names])\n",
    "    return images, labels"
   ]
  },
  {
   "cell_type": "markdown",
   "id": "7e3cb526-50e0-4619-b617-a312a22eb2a9",
   "metadata": {
    "deletable": false,
    "editable": false,
    "nbgrader": {
     "cell_type": "markdown",
     "checksum": "182a664eeee355ab6f4e55d62b4c40bb",
     "grade": false,
     "grade_id": "cell-abe43c49bc923863",
     "locked": true,
     "schema_version": 3,
     "solution": false,
     "task": false
    },
    "tags": []
   },
   "source": [
    "**(Question)** Load the dataset and display some images of the different classes."
   ]
  },
  {
   "cell_type": "code",
   "execution_count": null,
   "id": "a25dd85f-c97f-480d-b7e4-df3b7a0034f2",
   "metadata": {
    "deletable": false,
    "nbgrader": {
     "cell_type": "code",
     "checksum": "8048355261fc86648b8504a02db83f9c",
     "grade": true,
     "grade_id": "scenes-dataset",
     "locked": false,
     "points": 1,
     "schema_version": 3,
     "solution": true,
     "task": false
    },
    "tags": []
   },
   "outputs": [],
   "source": [
    "# YOUR CODE HERE\n",
    "raise NotImplementedError()"
   ]
  },
  {
   "cell_type": "markdown",
   "id": "23dc5098-c9ff-494a-9463-74ef8c92261a",
   "metadata": {
    "deletable": false,
    "editable": false,
    "nbgrader": {
     "cell_type": "markdown",
     "checksum": "6c9cbb2cdb297d5f6f17a6d0ffc024ce",
     "grade": false,
     "grade_id": "cell-fe7bd818c55cfd7e",
     "locked": true,
     "schema_version": 3,
     "solution": false,
     "task": false
    },
    "tags": []
   },
   "source": [
    "### 3. HOG features\n",
    "\n",
    "Instead of working directly with image pixels (which would represent almost 200k dimensional features), we will be using a very popular image feature descriptor called the Histogram of Oriented Gradients (HOG).\n",
    "\n",
    "The principle of HOG is to compute a feature vector on several subregions of the image (called patches) for example of size 8x8. The image is then represented as a set of feature vectors corresponding to all patches.\n",
    "\n",
    "The feature vectors computed are histograms of gradient orientations: the gradient of the image is computed (corresponding to its changes of intensity in each pixel), then the orientations of this gradient in each patch are accumulated into bins (here, we will be using 9 bins per patch).\n",
    "\n",
    "In computer vision, HOG features are heavily related with the other well-known SIFT keypoints."
   ]
  },
  {
   "cell_type": "code",
   "execution_count": null,
   "id": "38f7339d-9ae5-4503-9e00-3f3ea9815907",
   "metadata": {
    "deletable": false,
    "editable": false,
    "nbgrader": {
     "cell_type": "code",
     "checksum": "6371de68503288f55dfd2543af4a14fb",
     "grade": false,
     "grade_id": "cell-039751d360cb32b6",
     "locked": true,
     "schema_version": 3,
     "solution": false,
     "task": false
    },
    "tags": []
   },
   "outputs": [],
   "source": [
    "def hog_features(image):\n",
    "    # Return a list of HOG features for a given image\n",
    "    features = skimage.feature.hog(image, pixels_per_cell=(8, 8), cells_per_block=(1, 1),\n",
    "                                   block_norm='L2-Hys', feature_vector=False, channel_axis=-1)\n",
    "    features = features.reshape(-1, features.shape[-1])\n",
    "    return features"
   ]
  },
  {
   "cell_type": "markdown",
   "id": "7cddf8a4-49b8-4ba2-a4e6-bcbefd1f7de2",
   "metadata": {
    "deletable": false,
    "editable": false,
    "nbgrader": {
     "cell_type": "markdown",
     "checksum": "86519bd1c464994e631ab147b5b0523f",
     "grade": false,
     "grade_id": "cell-e16c4bc537c68c39",
     "locked": true,
     "schema_version": 3,
     "solution": false,
     "task": false
    },
    "tags": []
   },
   "source": [
    "**(Question)** Compute HOG features for a single image. Take a look at the feature vectors obtained and try to understand what the dimensions correspond to."
   ]
  },
  {
   "cell_type": "code",
   "execution_count": null,
   "id": "91ce5005-c45b-41e5-9dd5-cb24b8b23028",
   "metadata": {
    "deletable": false,
    "nbgrader": {
     "cell_type": "code",
     "checksum": "ff19c1eecb937e646996fcdfb804c11a",
     "grade": true,
     "grade_id": "hog",
     "locked": false,
     "points": 1,
     "schema_version": 3,
     "solution": true,
     "task": false
    },
    "tags": []
   },
   "outputs": [],
   "source": [
    "# YOUR CODE HERE\n",
    "raise NotImplementedError()"
   ]
  },
  {
   "cell_type": "markdown",
   "id": "45a569ce-adee-4c7d-8a44-e972d1c5e8d8",
   "metadata": {
    "deletable": false,
    "editable": false,
    "nbgrader": {
     "cell_type": "markdown",
     "checksum": "b54e904f36df72107541c35f83465e7a",
     "grade": false,
     "grade_id": "cell-fd56438e90087e50",
     "locked": true,
     "schema_version": 3,
     "solution": false,
     "task": false
    },
    "tags": []
   },
   "source": [
    "**(Question)** Compute HOG features for the whole dataset. If it takes too long, you can directly load them from the provided `hog.tgz` file."
   ]
  },
  {
   "cell_type": "code",
   "execution_count": null,
   "id": "99fde704-8eeb-42d7-b8db-3501413bbebc",
   "metadata": {
    "deletable": false,
    "nbgrader": {
     "cell_type": "code",
     "checksum": "5417ea7dd824a3bf885b18d23c3b8222",
     "grade": true,
     "grade_id": "hog-dataset",
     "locked": false,
     "points": 1,
     "schema_version": 3,
     "solution": true,
     "task": false
    },
    "tags": []
   },
   "outputs": [],
   "source": [
    "# YOUR CODE HERE\n",
    "raise NotImplementedError()"
   ]
  },
  {
   "cell_type": "markdown",
   "id": "106fb3ea-2ebd-4580-bcdc-50c98d38bef5",
   "metadata": {
    "deletable": false,
    "editable": false,
    "nbgrader": {
     "cell_type": "markdown",
     "checksum": "a140399174da868bbbd57356a9ea8817",
     "grade": false,
     "grade_id": "cell-3aadaa0c49fede34",
     "locked": true,
     "schema_version": 3,
     "solution": false,
     "task": false
    },
    "tags": []
   },
   "source": [
    "**(Question)** Split these features into train and test sets (for example 75% train, 25% test).\n",
    "\n",
    "*Hint*: you can use the `train_test_split` method from `sklearn.model_selection`."
   ]
  },
  {
   "cell_type": "code",
   "execution_count": null,
   "id": "18e662aa-b855-4965-ace6-1829b4b60073",
   "metadata": {
    "deletable": false,
    "nbgrader": {
     "cell_type": "code",
     "checksum": "53f76900e98ce27ef917ee1a3b4e4cf0",
     "grade": true,
     "grade_id": "hog-dataset-split",
     "locked": false,
     "points": 1,
     "schema_version": 3,
     "solution": true,
     "task": false
    },
    "tags": []
   },
   "outputs": [],
   "source": [
    "# YOUR CODE HERE\n",
    "raise NotImplementedError()"
   ]
  },
  {
   "cell_type": "markdown",
   "id": "65805ece-1027-4c0b-bdc8-cbc05f6ae22b",
   "metadata": {
    "deletable": false,
    "editable": false,
    "nbgrader": {
     "cell_type": "markdown",
     "checksum": "8f20f184213dcd8efe94cff32e2a90ce",
     "grade": false,
     "grade_id": "cell-318af32e7e31b859",
     "locked": true,
     "schema_version": 3,
     "solution": false,
     "task": false
    },
    "tags": []
   },
   "source": [
    "### 4. Bag of features\n",
    "\n",
    "We will now implement the bag of features approach. It is composed on three main steps:\n",
    "- Learn a vocabulary of visual words (also called codebook) using a clustering method (for example K-Means) applied on HOG features\n",
    "- Project each feature of an image into the vocabulary, and build an histogram of these projections, giving a final single feature vector for the image\n",
    "- Train an SVM classifier with these histograms of visual words as features for training images"
   ]
  },
  {
   "cell_type": "markdown",
   "id": "2b352c60-fd33-48c7-a768-e7f2d5c4b97c",
   "metadata": {
    "deletable": false,
    "editable": false,
    "nbgrader": {
     "cell_type": "markdown",
     "checksum": "c36212ccf273f63c840199322a91f34b",
     "grade": false,
     "grade_id": "cell-9fc15184cc6d672f",
     "locked": true,
     "schema_version": 3,
     "solution": false,
     "task": false
    },
    "tags": []
   },
   "source": [
    "**(Question)** Build the vocabulary of visual words with K-Means. The vocabulary size corresponds to the number of clusters."
   ]
  },
  {
   "cell_type": "code",
   "execution_count": null,
   "id": "fe3c6ce3-9e9b-46ce-8485-b44f9e12976f",
   "metadata": {
    "deletable": false,
    "nbgrader": {
     "cell_type": "code",
     "checksum": "b6983badc026895dd081236c51377386",
     "grade": false,
     "grade_id": "cell-cbec144b9ee27434",
     "locked": false,
     "schema_version": 3,
     "solution": true,
     "task": false
    },
    "tags": []
   },
   "outputs": [],
   "source": [
    "def build_vocabulary(features, voc_size=100):\n",
    "    # Cluster features into a visual vocabulary with K-Means algorithm,\n",
    "    # then return the trained classified object.\n",
    "    # You can use the MiniBatchKMeans class for very similar results \n",
    "    # but faster run time\n",
    "    # YOUR CODE HERE\n",
    "    raise NotImplementedError()"
   ]
  },
  {
   "cell_type": "code",
   "execution_count": null,
   "id": "9656ffa4-54f0-4af0-b925-0d76e5900d00",
   "metadata": {
    "deletable": false,
    "nbgrader": {
     "cell_type": "code",
     "checksum": "5a004101303f64f523bd8407812c7d55",
     "grade": false,
     "grade_id": "kmeans-vocabulary",
     "locked": false,
     "schema_version": 3,
     "solution": true,
     "task": false
    },
    "tags": []
   },
   "outputs": [],
   "source": [
    "# Build the vocabulary from train features\n",
    "# YOUR CODE HERE\n",
    "raise NotImplementedError()"
   ]
  },
  {
   "cell_type": "code",
   "execution_count": null,
   "id": "c4fb9145-963f-44e0-9d6c-086369ef77b8",
   "metadata": {
    "deletable": false,
    "editable": false,
    "nbgrader": {
     "cell_type": "code",
     "checksum": "1cc3e02ccb3bc4af82ad09f4e263b219",
     "grade": true,
     "grade_id": "kmeans-vocabulary-tests",
     "locked": true,
     "points": 2,
     "schema_version": 3,
     "solution": false,
     "task": false
    }
   },
   "outputs": [],
   "source": [
    "assert vocabulary.n_clusters == 100\n",
    "assert vocabulary.n_features_in_ == 9"
   ]
  },
  {
   "cell_type": "markdown",
   "id": "b4d6fbfb-7696-44ff-aaf9-d622e9cced0c",
   "metadata": {
    "deletable": false,
    "editable": false,
    "nbgrader": {
     "cell_type": "markdown",
     "checksum": "f1b51ec29ee4b1fe120b3881803c592d",
     "grade": false,
     "grade_id": "cell-9c16edb86a9e46be",
     "locked": true,
     "schema_version": 3,
     "solution": false,
     "task": false
    },
    "tags": []
   },
   "source": [
    "**(Question)** Try to understand the `build_codebook` function below. Then, compute the histograms of visual words for features of the train and test sets. Store the results into `X_train` and `X_test` variables."
   ]
  },
  {
   "cell_type": "code",
   "execution_count": null,
   "id": "0213a7bd-6551-489f-ae01-22a7f121624d",
   "metadata": {
    "deletable": false,
    "editable": false,
    "nbgrader": {
     "cell_type": "code",
     "checksum": "ee1767208df381a92ca9421940035c84",
     "grade": false,
     "grade_id": "cell-9f9262f9db78f30a",
     "locked": true,
     "schema_version": 3,
     "solution": false,
     "task": false
    },
    "tags": []
   },
   "outputs": [],
   "source": [
    "def build_codebook(features, vocabulary):\n",
    "    # Given a vocabulary of visual words (KMeans classifier object),\n",
    "    # compute the codebook (histogram) of the set of features for an image\n",
    "    voc_size = len(vocabulary.cluster_centers_)\n",
    "    codebook = np.zeros((len(features), voc_size))\n",
    "    for i, f in enumerate(features):\n",
    "        assignemnts = vocabulary.predict(f)\n",
    "        for k in range(voc_size):\n",
    "            codebook[i][k] = len(np.where(assignemnts == k)[0])\n",
    "    codebook = codebook / codebook.sum(axis=1)[:, np.newaxis] # normalization\n",
    "    return codebook"
   ]
  },
  {
   "cell_type": "code",
   "execution_count": null,
   "id": "f235a2b3-328c-4e29-85c5-7df4643af2d0",
   "metadata": {
    "deletable": false,
    "nbgrader": {
     "cell_type": "code",
     "checksum": "1c3f124481ade9946ce68d243a3abec2",
     "grade": false,
     "grade_id": "codebook",
     "locked": false,
     "schema_version": 3,
     "solution": true,
     "task": false
    },
    "tags": []
   },
   "outputs": [],
   "source": [
    "# Build the codebooks for train and test features into X_train and X_test variables respectively\n",
    "# YOUR CODE HERE\n",
    "raise NotImplementedError()"
   ]
  },
  {
   "cell_type": "code",
   "execution_count": null,
   "id": "06cd9d6e-a0c9-4ccf-a362-57bc50c5c63c",
   "metadata": {
    "deletable": false,
    "editable": false,
    "nbgrader": {
     "cell_type": "code",
     "checksum": "b0d984cfbc3eea0245c90ef5f75611e9",
     "grade": true,
     "grade_id": "cell-8bcodebook-tests1ccf4a6157e833",
     "locked": true,
     "points": 1,
     "schema_version": 3,
     "solution": false,
     "task": false
    },
    "tags": []
   },
   "outputs": [],
   "source": [
    "assert X_train.shape == (y_train.shape[0], 100)\n",
    "assert X_test.shape == (y_test.shape[0], 100)"
   ]
  },
  {
   "cell_type": "markdown",
   "id": "4b7847d8-5b95-49f6-a5a2-d774cef895a7",
   "metadata": {
    "deletable": false,
    "editable": false,
    "nbgrader": {
     "cell_type": "markdown",
     "checksum": "fb76e27788a3f3b2ffcc1ad411b1f3ec",
     "grade": false,
     "grade_id": "cell-b7e71ede4b24ccd3",
     "locked": true,
     "schema_version": 3,
     "solution": false,
     "task": false
    }
   },
   "source": [
    "**(Question)** Explain what the `build_codebook` function does."
   ]
  },
  {
   "cell_type": "markdown",
   "id": "e8c587cc-ec9d-4eb8-acd0-4c6b61d856cb",
   "metadata": {
    "deletable": false,
    "nbgrader": {
     "cell_type": "markdown",
     "checksum": "bd289ef657f2f253e70530a4cad7694d",
     "grade": true,
     "grade_id": "codebook-question",
     "locked": false,
     "points": 2,
     "schema_version": 3,
     "solution": true,
     "task": false
    }
   },
   "source": [
    "YOUR ANSWER HERE"
   ]
  },
  {
   "cell_type": "markdown",
   "id": "7db21967-106b-4c90-8bcf-d951de18b225",
   "metadata": {
    "deletable": false,
    "editable": false,
    "nbgrader": {
     "cell_type": "markdown",
     "checksum": "d4f27f1439440431f9bcf82a6a00abd9",
     "grade": false,
     "grade_id": "cell-1e002d0d74fa8c5b",
     "locked": true,
     "schema_version": 3,
     "solution": false,
     "task": false
    }
   },
   "source": [
    "**(Question)** Train an SVM classifier with the histograms of visual words and report the classification results. Analyze the results and try to improve the classification results by adjusting the hyperparameters."
   ]
  },
  {
   "cell_type": "code",
   "execution_count": null,
   "id": "ffbdde59-6e18-45ea-b4ca-1580b35fb903",
   "metadata": {
    "deletable": false,
    "nbgrader": {
     "cell_type": "code",
     "checksum": "f65f038c181da9b46959ac6fb29ae4aa",
     "grade": true,
     "grade_id": "bag-of-features",
     "locked": false,
     "points": 2,
     "schema_version": 3,
     "solution": true,
     "task": false
    },
    "tags": []
   },
   "outputs": [],
   "source": [
    "# YOUR CODE HERE\n",
    "raise NotImplementedError()"
   ]
  },
  {
   "cell_type": "markdown",
   "id": "d2eb2d73-c031-4cc4-8b08-8b05e1b29dfa",
   "metadata": {
    "deletable": false,
    "editable": false,
    "nbgrader": {
     "cell_type": "markdown",
     "checksum": "e2d1a7988391f54ab61c70ee95c866a6",
     "grade": false,
     "grade_id": "visualize-vocabulary",
     "locked": true,
     "points": 3,
     "schema_version": 3,
     "solution": false,
     "task": true
    }
   },
   "source": [
    "**(Question)** Propose a visualization of some of the visual words learned by your bag of features model."
   ]
  },
  {
   "cell_type": "code",
   "execution_count": null,
   "id": "d7ea917b-f3fe-4e4c-9d11-8a2984a32633",
   "metadata": {
    "deletable": false,
    "nbgrader": {
     "cell_type": "code",
     "checksum": "3ad3f8a7c75f11252e9914fd3d28b100",
     "grade": true,
     "grade_id": "visualize-vocabulary-solution",
     "locked": false,
     "points": 0,
     "schema_version": 3,
     "solution": true,
     "task": false
    }
   },
   "outputs": [],
   "source": [
    "# YOUR CODE HERE\n",
    "raise NotImplementedError()"
   ]
  }
 ],
 "metadata": {
  "kernelspec": {
   "display_name": "Python 3 (ipykernel)",
   "language": "python",
   "name": "python3"
  },
  "language_info": {
   "codemirror_mode": {
    "name": "ipython",
    "version": 3
   },
   "file_extension": ".py",
   "mimetype": "text/x-python",
   "name": "python",
   "nbconvert_exporter": "python",
   "pygments_lexer": "ipython3",
   "version": "3.10.9"
  }
 },
 "nbformat": 4,
 "nbformat_minor": 5
}
