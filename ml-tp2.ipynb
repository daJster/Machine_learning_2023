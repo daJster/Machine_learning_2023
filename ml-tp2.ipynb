{
 "cells": [
  {
   "cell_type": "markdown",
   "id": "6256b1a3",
   "metadata": {
    "deletable": false,
    "editable": false,
    "nbgrader": {
     "cell_type": "markdown",
     "checksum": "75b919c90a83470a115a52ea7f07a509",
     "grade": false,
     "grade_id": "cell-93fcd12e2858a215",
     "locked": true,
     "schema_version": 3,
     "solution": false,
     "task": false
    },
    "tags": []
   },
   "source": [
    "# IS318 - Machine Learning\n",
    "## TP2 - Linear classification\n",
    "\n",
    "The goal of this TP is to experiment with linear models for classification."
   ]
  },
  {
   "cell_type": "code",
   "execution_count": null,
   "id": "8a014d46",
   "metadata": {
    "deletable": false,
    "editable": false,
    "nbgrader": {
     "cell_type": "code",
     "checksum": "83e45f3517f22a95521f6539e673e8ef",
     "grade": false,
     "grade_id": "cell-34ef4d92a03cb0f6",
     "locked": true,
     "schema_version": 3,
     "solution": false,
     "task": false
    },
    "tags": []
   },
   "outputs": [],
   "source": [
    "import numpy as np\n",
    "import matplotlib.pyplot as plt\n",
    "from sklearn.datasets import make_blobs, make_classification\n",
    "from sklearn.model_selection import train_test_split"
   ]
  },
  {
   "cell_type": "markdown",
   "id": "1aab6544",
   "metadata": {
    "deletable": false,
    "editable": false,
    "nbgrader": {
     "cell_type": "markdown",
     "checksum": "c9c6ef57245c0a2f779c61fd9f5609c9",
     "grade": false,
     "grade_id": "cell-e44bb08be4c50396",
     "locked": true,
     "schema_version": 3,
     "solution": false,
     "task": false
    },
    "tags": []
   },
   "source": [
    "### 1. Dataset\n",
    "\n",
    "We will work with a synthetic binary classification dataset:"
   ]
  },
  {
   "cell_type": "code",
   "execution_count": null,
   "id": "ebe6ac87",
   "metadata": {},
   "outputs": [],
   "source": [
    "X, y = make_blobs(n_samples=500, n_features=2, centers=2, center_box=(-3, 3), random_state=42) # Easy\n",
    "# X, y = make_classification(n_samples=500, n_features=2, n_redundant=0, n_informative=2) # Harder\n",
    "plt.scatter(X[:, 0][y == 0], X[:, 1][y == 0])\n",
    "plt.scatter(X[:, 0][y == 1], X[:, 1][y == 1])\n",
    "plt.tight_layout()\n",
    "print(X.shape, y.shape)"
   ]
  },
  {
   "cell_type": "markdown",
   "id": "5603aa9c",
   "metadata": {
    "deletable": false,
    "editable": false,
    "nbgrader": {
     "cell_type": "markdown",
     "checksum": "72ab292ed30562c3870c78444fa7b423",
     "grade": false,
     "grade_id": "cell-afa7229f389abbe7",
     "locked": true,
     "schema_version": 3,
     "solution": false,
     "task": false
    },
    "tags": []
   },
   "source": [
    "Before implementing a classification method, we will apply some preprocessing steps."
   ]
  },
  {
   "cell_type": "markdown",
   "id": "3c3e496a",
   "metadata": {
    "deletable": false,
    "editable": false,
    "nbgrader": {
     "cell_type": "markdown",
     "checksum": "cd00f9d2243798194b516a4788c7bb3f",
     "grade": false,
     "grade_id": "cell-1fb90646737a6d5e",
     "locked": true,
     "schema_version": 3,
     "solution": false,
     "task": false
    },
    "tags": []
   },
   "source": [
    "**(Question)** Preprocessing: normalize the data such that it has zero mean and unit variance. To do that, for each feature, substract the mean and divide by the standard deviation over the samples. Plot the data.\n",
    "\n",
    "This procedure is called *standardization*.\n",
    "It is useful for numerical stability (notably for gradient descent)."
   ]
  },
  {
   "cell_type": "code",
   "execution_count": null,
   "id": "b68e573c",
   "metadata": {
    "deletable": false,
    "nbgrader": {
     "cell_type": "code",
     "checksum": "b4badd957409abfcdeced194efcef9e3",
     "grade": false,
     "grade_id": "standardization",
     "locked": false,
     "schema_version": 3,
     "solution": true,
     "task": false
    },
    "tags": []
   },
   "outputs": [],
   "source": [
    "# YOUR CODE HERE\n",
    "raise NotImplementedError()"
   ]
  },
  {
   "cell_type": "code",
   "execution_count": null,
   "id": "46e1b812",
   "metadata": {
    "deletable": false,
    "editable": false,
    "nbgrader": {
     "cell_type": "code",
     "checksum": "04e1efae7114ce7df0c9b959c855b4ea",
     "grade": true,
     "grade_id": "standardization-tests",
     "locked": true,
     "points": 1,
     "schema_version": 3,
     "solution": false,
     "task": false
    },
    "tags": []
   },
   "outputs": [],
   "source": [
    "assert np.allclose(X.mean(axis=0), 0.)\n",
    "assert np.allclose(X.var(axis=0), 1.)"
   ]
  },
  {
   "cell_type": "markdown",
   "id": "f2908d4f",
   "metadata": {
    "deletable": false,
    "editable": false,
    "nbgrader": {
     "cell_type": "markdown",
     "checksum": "6ddd5c6e3c519e2a18c5c68aeba94f62",
     "grade": false,
     "grade_id": "cell-631a64afb8750018",
     "locked": true,
     "schema_version": 3,
     "solution": false,
     "task": false
    },
    "tags": []
   },
   "source": [
    "**(Question)** Plot the data points as above to observe the difference of standardization."
   ]
  },
  {
   "cell_type": "code",
   "execution_count": null,
   "id": "b089703c",
   "metadata": {
    "deletable": false,
    "nbgrader": {
     "cell_type": "code",
     "checksum": "90f497d37884842f76616b8227771f1c",
     "grade": true,
     "grade_id": "cell-c0770150e5c3dd24",
     "locked": false,
     "points": 1,
     "schema_version": 3,
     "solution": true,
     "task": false
    },
    "tags": []
   },
   "outputs": [],
   "source": [
    "# YOUR CODE HERE\n",
    "raise NotImplementedError()"
   ]
  },
  {
   "cell_type": "markdown",
   "id": "40c862e0",
   "metadata": {
    "deletable": false,
    "editable": false,
    "nbgrader": {
     "cell_type": "markdown",
     "checksum": "c125438c8bacaa2ce24d5e0944027a57",
     "grade": false,
     "grade_id": "cell-f3f3316ec3084702",
     "locked": true,
     "schema_version": 3,
     "solution": false,
     "task": false
    },
    "tags": []
   },
   "source": [
    "**(Question)** As usual, add a column with ones to simplify dot product notation. Then, split the dataset into training and validation sets."
   ]
  },
  {
   "cell_type": "code",
   "execution_count": null,
   "id": "824cbe91",
   "metadata": {
    "deletable": false,
    "nbgrader": {
     "cell_type": "code",
     "checksum": "dfdaafa8e82e66c4dc8fb30438240eca",
     "grade": false,
     "grade_id": "split",
     "locked": false,
     "schema_version": 3,
     "solution": true,
     "task": false
    },
    "tags": []
   },
   "outputs": [],
   "source": [
    "# YOUR CODE HERE\n",
    "raise NotImplementedError()"
   ]
  },
  {
   "cell_type": "code",
   "execution_count": null,
   "id": "0ddc2c4f",
   "metadata": {
    "deletable": false,
    "editable": false,
    "nbgrader": {
     "cell_type": "code",
     "checksum": "7dd886b050a78404d7415282e6065f66",
     "grade": true,
     "grade_id": "split-tests",
     "locked": true,
     "points": 1,
     "schema_version": 3,
     "solution": false,
     "task": false
    },
    "tags": []
   },
   "outputs": [],
   "source": [
    "assert X.shape[1] == 3\n",
    "assert np.all(X[:, 0] == 1.)"
   ]
  },
  {
   "cell_type": "markdown",
   "id": "23d4c95a",
   "metadata": {
    "deletable": false,
    "editable": false,
    "nbgrader": {
     "cell_type": "markdown",
     "checksum": "b723ec81d4fd95292f11c942fd113e24",
     "grade": false,
     "grade_id": "cell-059816faca4cbc08",
     "locked": true,
     "schema_version": 3,
     "solution": false,
     "task": false
    },
    "tags": []
   },
   "source": [
    "**(Question)** With real data, it is considered wrong to apply standardization before splitting the dataset. Can you explain why?"
   ]
  },
  {
   "cell_type": "markdown",
   "id": "a209cc5b-3b2d-4694-bad2-205cf7102f24",
   "metadata": {
    "deletable": false,
    "editable": false,
    "nbgrader": {
     "cell_type": "markdown",
     "checksum": "b1849072bec6dd8a2aaa83e0ed418d13",
     "grade": false,
     "grade_id": "standardization-question",
     "locked": true,
     "points": 2,
     "schema_version": 3,
     "solution": false,
     "task": true
    },
    "tags": []
   },
   "source": []
  },
  {
   "cell_type": "markdown",
   "id": "119bf569",
   "metadata": {
    "deletable": false,
    "editable": false,
    "nbgrader": {
     "cell_type": "markdown",
     "checksum": "2a1940e1d50c42c5fa168a1b9d165aff",
     "grade": false,
     "grade_id": "cell-587acae83f3aed68",
     "locked": true,
     "schema_version": 3,
     "solution": false,
     "task": false
    },
    "tags": []
   },
   "source": [
    "### 2. Logistic regression"
   ]
  },
  {
   "cell_type": "markdown",
   "id": "48026dca",
   "metadata": {
    "deletable": false,
    "editable": false,
    "nbgrader": {
     "cell_type": "markdown",
     "checksum": "063d56d6e5b439f4bfdf300fb7d22961",
     "grade": false,
     "grade_id": "cell-de852ec2de0f582e",
     "locked": true,
     "schema_version": 3,
     "solution": false,
     "task": false
    },
    "tags": []
   },
   "source": [
    "**(Question)** Complete the `LogisticRegression` class below to implement logistic regression for binary classification.\n",
    "- For the `fit` method, implement a simple gradient descent on the binary cross entropy loss. Record the evolution of the loss over the iterations in the `loss_hist` attribute.\n",
    "- For the `predict` method, compute predictions from the model and return the binary decisions by thresholding at $0.5$."
   ]
  },
  {
   "cell_type": "code",
   "execution_count": null,
   "id": "7dde41e2",
   "metadata": {
    "deletable": false,
    "nbgrader": {
     "cell_type": "code",
     "checksum": "832d44413fa988e9a0f7a2a8021c8108",
     "grade": true,
     "grade_id": "logistic-regression",
     "locked": false,
     "points": 3,
     "schema_version": 3,
     "solution": true,
     "task": false
    },
    "tags": []
   },
   "outputs": [],
   "source": [
    "class LogisticRegression():\n",
    "    \n",
    "    def __init__(self, learning_rate=0.1, n_iters=1000):\n",
    "        self.learning_rate = learning_rate\n",
    "        self.n_iters = n_iters\n",
    "    \n",
    "    def sigmoid(self, x):\n",
    "        # YOUR CODE HERE\n",
    "        raise NotImplementedError()\n",
    "\n",
    "    def binary_cross_entropy(self, y, y_pred):\n",
    "        # YOUR CODE HERE\n",
    "        raise NotImplementedError()\n",
    "        \n",
    "    def fit(self, X, y):\n",
    "        # YOUR CODE HERE\n",
    "        raise NotImplementedError()\n",
    "    \n",
    "    def predict(self, X):\n",
    "        # YOUR CODE HERE\n",
    "        raise NotImplementedError()"
   ]
  },
  {
   "cell_type": "markdown",
   "id": "18bbac48",
   "metadata": {
    "deletable": false,
    "editable": false,
    "nbgrader": {
     "cell_type": "markdown",
     "checksum": "bc41c5c4453212b234cb888761e19610",
     "grade": false,
     "grade_id": "cell-f16724b685d8182d",
     "locked": true,
     "schema_version": 3,
     "solution": false,
     "task": false
    },
    "tags": []
   },
   "source": [
    "**(Question)** Apply your logistic regression model with default arguments to our synthetic dataset. Report the classification accuracy on the training and validation sets."
   ]
  },
  {
   "cell_type": "code",
   "execution_count": null,
   "id": "8cbb7e9b",
   "metadata": {
    "deletable": false,
    "nbgrader": {
     "cell_type": "code",
     "checksum": "62c5a98d04efce8d66b1f6fc0e647099",
     "grade": true,
     "grade_id": "logistic-regression-application",
     "locked": false,
     "points": 2,
     "schema_version": 3,
     "solution": true,
     "task": false
    },
    "tags": []
   },
   "outputs": [],
   "source": [
    "# YOUR CODE HERE\n",
    "raise NotImplementedError()"
   ]
  },
  {
   "cell_type": "markdown",
   "id": "7421f68f",
   "metadata": {
    "deletable": false,
    "editable": false,
    "nbgrader": {
     "cell_type": "markdown",
     "checksum": "cec3561675dab4136fbf74a97e364c4b",
     "grade": false,
     "grade_id": "cell-2c50c28976f04cea",
     "locked": true,
     "schema_version": 3,
     "solution": false,
     "task": false
    },
    "tags": []
   },
   "source": [
    "**(Question)** Plot the decision boundary on top on the data points.\n",
    "\n",
    "*Hint*: to compute the decision boundary, start from its equation and transform it to an usual affine formulation."
   ]
  },
  {
   "cell_type": "code",
   "execution_count": null,
   "id": "f3eabb2d",
   "metadata": {
    "deletable": false,
    "nbgrader": {
     "cell_type": "code",
     "checksum": "15bd3d1e3a7acf54868ae670180abe5f",
     "grade": true,
     "grade_id": "plot-decision-boundary",
     "locked": false,
     "points": 2,
     "schema_version": 3,
     "solution": true,
     "task": false
    },
    "tags": []
   },
   "outputs": [],
   "source": [
    "# YOUR CODE HERE\n",
    "raise NotImplementedError()"
   ]
  },
  {
   "cell_type": "markdown",
   "id": "8ab7127a",
   "metadata": {
    "deletable": false,
    "editable": false,
    "nbgrader": {
     "cell_type": "markdown",
     "checksum": "e862bc68eecfa77f9947aa4b24a041af",
     "grade": false,
     "grade_id": "learning-rate",
     "locked": true,
     "points": 2,
     "schema_version": 3,
     "solution": false,
     "task": true
    },
    "tags": []
   },
   "source": [
    "**(Question)** Play around with the `learning_rate` and `n_iters` hyperparameters to see the impact on gradient descent convergence.\n",
    "Plot the evolution of the loss over the iterations for different learning rates.\n",
    "Comment the results."
   ]
  },
  {
   "cell_type": "code",
   "execution_count": null,
   "id": "e931ae2b-89be-4daa-9209-5df4b9328c92",
   "metadata": {
    "deletable": false,
    "nbgrader": {
     "cell_type": "code",
     "checksum": "c15211b95b28e919789d1ebe35583a5a",
     "grade": true,
     "grade_id": "cell-e7c41ebfd71dc746",
     "locked": false,
     "points": 0,
     "schema_version": 3,
     "solution": true,
     "task": false
    }
   },
   "outputs": [],
   "source": [
    "# YOUR CODE HERE\n",
    "raise NotImplementedError()"
   ]
  },
  {
   "cell_type": "markdown",
   "id": "48400ba7-73ee-48e2-84f2-277d87de1a99",
   "metadata": {
    "deletable": false,
    "nbgrader": {
     "cell_type": "markdown",
     "checksum": "6e8f9f978619c9e39c5e761c339c69e0",
     "grade": true,
     "grade_id": "cell-eeedab9405a61031",
     "locked": false,
     "points": 0,
     "schema_version": 3,
     "solution": true,
     "task": false
    }
   },
   "source": [
    "YOUR ANSWER HERE"
   ]
  },
  {
   "cell_type": "markdown",
   "id": "0ffabb2c",
   "metadata": {
    "deletable": false,
    "editable": false,
    "nbgrader": {
     "cell_type": "markdown",
     "checksum": "57f2a77009eda66a0d150cb2ded613b5",
     "grade": false,
     "grade_id": "cell-87646eec97dc53e9",
     "locked": true,
     "schema_version": 3,
     "solution": false,
     "task": false
    },
    "tags": []
   },
   "source": [
    "### 3. Gaussian generative model"
   ]
  },
  {
   "cell_type": "markdown",
   "id": "e2c93b35",
   "metadata": {
    "deletable": false,
    "editable": false,
    "nbgrader": {
     "cell_type": "markdown",
     "checksum": "549edfd86449fa0618eb5839b1f83462",
     "grade": false,
     "grade_id": "cell-d82bb1c3feac539d",
     "locked": true,
     "schema_version": 3,
     "solution": false,
     "task": false
    },
    "tags": []
   },
   "source": [
    "**(Question)** Complete the `GaussianGenerativeModel` class below."
   ]
  },
  {
   "cell_type": "code",
   "execution_count": null,
   "id": "feb42ac7",
   "metadata": {
    "deletable": false,
    "nbgrader": {
     "cell_type": "code",
     "checksum": "2f740e0c59aafa7d39118ceb5947c74b",
     "grade": true,
     "grade_id": "gaussian-generative-model",
     "locked": false,
     "points": 3,
     "schema_version": 3,
     "solution": true,
     "task": false
    },
    "tags": []
   },
   "outputs": [],
   "source": [
    "class GaussianGenerativeModel():\n",
    "\n",
    "    def fit(self, X, y):\n",
    "        # YOUR CODE HERE\n",
    "        raise NotImplementedError()\n",
    "        \n",
    "    def predict(self, X):\n",
    "        # YOUR CODE HERE\n",
    "        raise NotImplementedError()"
   ]
  },
  {
   "cell_type": "markdown",
   "id": "5abe93d5-164b-4ce1-ab8a-a6cc3831cd07",
   "metadata": {
    "deletable": false,
    "editable": false,
    "nbgrader": {
     "cell_type": "markdown",
     "checksum": "a9e583144ab8856fc6db69667eab3405",
     "grade": false,
     "grade_id": "cell-dd501b54548bb285",
     "locked": true,
     "schema_version": 3,
     "solution": false,
     "task": false
    },
    "tags": []
   },
   "source": [
    "**(Question)** Apply your gaussian generative model to our synthetic dataset. Report the classification accuracy on the training and validation sets.\n",
    "\n",
    "*Hint:* The column with ones is not needed for this model."
   ]
  },
  {
   "cell_type": "code",
   "execution_count": null,
   "id": "76110f0e",
   "metadata": {
    "deletable": false,
    "nbgrader": {
     "cell_type": "code",
     "checksum": "e3adda9d6642ae29c93ba77f4e61f8f6",
     "grade": true,
     "grade_id": "gaussian-generative-model-application",
     "locked": false,
     "points": 1,
     "schema_version": 3,
     "solution": true,
     "task": false
    },
    "tags": []
   },
   "outputs": [],
   "source": [
    "# YOUR CODE HERE\n",
    "raise NotImplementedError()"
   ]
  },
  {
   "cell_type": "markdown",
   "id": "9eb6fd37",
   "metadata": {
    "deletable": false,
    "editable": false,
    "nbgrader": {
     "cell_type": "markdown",
     "checksum": "e87d2bee20de6267f329df4500473125",
     "grade": false,
     "grade_id": "cell-ca27027f93cf6d71",
     "locked": true,
     "schema_version": 3,
     "solution": false,
     "task": false
    },
    "tags": []
   },
   "source": [
    "**(Question)** Plot the decision boundary on top on the data points and compare it with the one obtained with logistic regression."
   ]
  },
  {
   "cell_type": "code",
   "execution_count": null,
   "id": "583f79ab",
   "metadata": {
    "deletable": false,
    "nbgrader": {
     "cell_type": "code",
     "checksum": "c4cf00d82b9412cde8d9853917c094dd",
     "grade": true,
     "grade_id": "decision-boundary-lda",
     "locked": false,
     "points": 0,
     "schema_version": 3,
     "solution": true,
     "task": false
    },
    "tags": []
   },
   "outputs": [],
   "source": [
    "# YOUR CODE HERE\n",
    "raise NotImplementedError()"
   ]
  },
  {
   "cell_type": "markdown",
   "id": "90a2d39d",
   "metadata": {
    "deletable": false,
    "editable": false,
    "nbgrader": {
     "cell_type": "markdown",
     "checksum": "1d08b5ab40571cf4e706da48619f7937",
     "grade": false,
     "grade_id": "cell-b68c85fbe5860c75",
     "locked": true,
     "schema_version": 3,
     "solution": false,
     "task": false
    },
    "tags": []
   },
   "source": [
    "### 4. Comparison with `sklearn`"
   ]
  },
  {
   "cell_type": "markdown",
   "id": "85d560da",
   "metadata": {
    "deletable": false,
    "editable": false,
    "nbgrader": {
     "cell_type": "markdown",
     "checksum": "20a3bebd221b48cb43ffbfba7ca66ea8",
     "grade": false,
     "grade_id": "cell-e0729bfebbc023fb",
     "locked": true,
     "points": 2,
     "schema_version": 3,
     "solution": false,
     "task": true
    },
    "tags": []
   },
   "source": [
    "**(Question)** Apply logistic regression using the `LogisticRegression` class from the `scikit-learn` library. Compare the results with your previous implementation.\n",
    "\n",
    "*Hints:*\n",
    "- If your features are already augmented with a column of ones, set the `fit_intercept` parameter to `False`\n",
    "- Set `penalty` (regularization to `None` to match your unregularized implementation"
   ]
  },
  {
   "cell_type": "code",
   "execution_count": null,
   "id": "ec6b6cda",
   "metadata": {
    "deletable": false,
    "nbgrader": {
     "cell_type": "code",
     "checksum": "9a5e1a978214abc9761c056ec8f19dbf",
     "grade": true,
     "grade_id": "cell-69a8aa6c12da9bf1",
     "locked": false,
     "points": 0,
     "schema_version": 3,
     "solution": true,
     "task": false
    },
    "tags": []
   },
   "outputs": [],
   "source": [
    "from sklearn.linear_model import LogisticRegression as LogisticRegressionSklearn\n",
    "# YOUR CODE HERE\n",
    "raise NotImplementedError()"
   ]
  },
  {
   "cell_type": "markdown",
   "id": "1313b1d5-76b6-4dfb-a5c5-794c51ea37aa",
   "metadata": {
    "deletable": false,
    "nbgrader": {
     "cell_type": "markdown",
     "checksum": "eabd9d5169692afde984c09c8db3f4b4",
     "grade": true,
     "grade_id": "cell-f96b86b29a4215a3",
     "locked": false,
     "points": 0,
     "schema_version": 3,
     "solution": true,
     "task": false
    }
   },
   "source": [
    "YOUR ANSWER HERE"
   ]
  },
  {
   "cell_type": "markdown",
   "id": "385bad86",
   "metadata": {
    "deletable": false,
    "editable": false,
    "nbgrader": {
     "cell_type": "markdown",
     "checksum": "4019cda224c3ab4abcd40524543d3530",
     "grade": false,
     "grade_id": "cell-68b61af9864a1b00",
     "locked": true,
     "schema_version": 3,
     "solution": false,
     "task": false
    },
    "tags": []
   },
   "source": [
    "### 5. Application to breast cancer dataset"
   ]
  },
  {
   "cell_type": "code",
   "execution_count": null,
   "id": "370bcae5-5bb1-4036-a5a9-cd3852b1ddef",
   "metadata": {
    "deletable": false,
    "editable": false,
    "nbgrader": {
     "cell_type": "code",
     "checksum": "5b8293b8a08ba6ed678e1534813c2c66",
     "grade": false,
     "grade_id": "cell-99932e3cc8416a34",
     "locked": true,
     "schema_version": 3,
     "solution": false,
     "task": false
    },
    "tags": []
   },
   "outputs": [],
   "source": [
    "from sklearn.datasets import load_breast_cancer\n",
    "dataset = load_breast_cancer()"
   ]
  },
  {
   "cell_type": "markdown",
   "id": "bbce9ff6-9f4d-4b00-b508-bfa4a72e07df",
   "metadata": {
    "deletable": false,
    "editable": false,
    "nbgrader": {
     "cell_type": "markdown",
     "checksum": "36088b456b7ccf954a705768aa4d9906",
     "grade": false,
     "grade_id": "breast-cancer-data",
     "locked": true,
     "points": 2,
     "schema_version": 3,
     "solution": false,
     "task": true
    },
    "tags": []
   },
   "source": [
    "**(Question)** Load the data into `X` and `y` variables. Familiarize yourself with this dataset. What are the dimensions? Explain what they mean."
   ]
  },
  {
   "cell_type": "code",
   "execution_count": null,
   "id": "bbee6e84-4491-4ff1-a677-cc9a0259162f",
   "metadata": {
    "deletable": false,
    "nbgrader": {
     "cell_type": "code",
     "checksum": "99c6ef406770a24f46c27736b1146a98",
     "grade": true,
     "grade_id": "cell-60ee53c331595ef1",
     "locked": false,
     "points": 0,
     "schema_version": 3,
     "solution": true,
     "task": false
    },
    "tags": []
   },
   "outputs": [],
   "source": [
    "# YOUR CODE HERE\n",
    "raise NotImplementedError()"
   ]
  },
  {
   "cell_type": "markdown",
   "id": "eaf14eb7-bff6-4ba2-a980-0b84ffc29eaa",
   "metadata": {
    "deletable": false,
    "nbgrader": {
     "cell_type": "markdown",
     "checksum": "b7600c3154214109ed1610a4b1e748fc",
     "grade": true,
     "grade_id": "cell-14189902a0489aeb",
     "locked": false,
     "points": 0,
     "schema_version": 3,
     "solution": true,
     "task": false
    },
    "tags": []
   },
   "source": [
    "YOUR ANSWER HERE"
   ]
  },
  {
   "cell_type": "markdown",
   "id": "a03dcd6c-206f-4877-ab6a-8c60f0b5ca5c",
   "metadata": {
    "deletable": false,
    "editable": false,
    "nbgrader": {
     "cell_type": "markdown",
     "checksum": "35c04e1a4481ac934de3f7d27e42e6a1",
     "grade": false,
     "grade_id": "cell-2d4cfb950b7ce867",
     "locked": true,
     "schema_version": 3,
     "solution": false,
     "task": false
    },
    "tags": []
   },
   "source": [
    "**(Question)** Split into train/test and preprocess the data."
   ]
  },
  {
   "cell_type": "code",
   "execution_count": null,
   "id": "fcf0c8c7-3e01-4825-b502-6b24096bc725",
   "metadata": {
    "deletable": false,
    "nbgrader": {
     "cell_type": "code",
     "checksum": "c57a308c73ea2e7bbf90b6c89dd0210a",
     "grade": true,
     "grade_id": "breast-cancer-split",
     "locked": false,
     "points": 1,
     "schema_version": 3,
     "solution": true,
     "task": false
    },
    "tags": []
   },
   "outputs": [],
   "source": [
    "# YOUR CODE HERE\n",
    "raise NotImplementedError()"
   ]
  },
  {
   "cell_type": "markdown",
   "id": "dd59f8e9-94d8-4861-9f04-2e20a2ff9272",
   "metadata": {
    "deletable": false,
    "editable": false,
    "nbgrader": {
     "cell_type": "markdown",
     "checksum": "6fd4230f278144f414a078f813cc5519",
     "grade": false,
     "grade_id": "apply-models",
     "locked": true,
     "points": 2,
     "schema_version": 3,
     "solution": false,
     "task": true
    },
    "tags": []
   },
   "source": [
    "**(Question)** Apply your implementations of logistic regression and gaussian generative model to this dataset."
   ]
  },
  {
   "cell_type": "code",
   "execution_count": null,
   "id": "5093501a-a175-42c5-8f55-cd9826f397ed",
   "metadata": {
    "deletable": false,
    "nbgrader": {
     "cell_type": "code",
     "checksum": "404d7882b36a6f24dba6345e0024cc34",
     "grade": true,
     "grade_id": "cell-1d2b82910938cd00",
     "locked": false,
     "points": 0,
     "schema_version": 3,
     "solution": true,
     "task": false
    },
    "tags": []
   },
   "outputs": [],
   "source": [
    "# YOUR CODE HERE\n",
    "raise NotImplementedError()"
   ]
  },
  {
   "cell_type": "markdown",
   "id": "671ba734-986c-4ac5-a11f-9a440f3494e6",
   "metadata": {
    "deletable": false,
    "editable": false,
    "nbgrader": {
     "cell_type": "markdown",
     "checksum": "5222890fa6998a84bc9f4e42dbd4b696",
     "grade": false,
     "grade_id": "cross-validation",
     "locked": true,
     "points": 2,
     "schema_version": 3,
     "solution": false,
     "task": true
    },
    "tags": []
   },
   "source": [
    "**(Question)** Apply cross-validation (see `sklearn.model_selection`) on your implementations to successively train several models and obtain predictions for the whole dataset.\n",
    "Comment the results."
   ]
  },
  {
   "cell_type": "code",
   "execution_count": null,
   "id": "a079b7bf-e98e-4e1c-b7ec-2a7dc3906976",
   "metadata": {
    "deletable": false,
    "nbgrader": {
     "cell_type": "code",
     "checksum": "e981a4b91586ccbbb9afc135c494c3fc",
     "grade": true,
     "grade_id": "cell-0f3c63ce7aac3838",
     "locked": false,
     "points": 0,
     "schema_version": 3,
     "solution": true,
     "task": false
    },
    "tags": []
   },
   "outputs": [],
   "source": [
    "# YOUR CODE HERE\n",
    "raise NotImplementedError()"
   ]
  },
  {
   "cell_type": "markdown",
   "id": "f118b0d7-0f30-4a74-82af-fe7c67a36f82",
   "metadata": {
    "deletable": false,
    "nbgrader": {
     "cell_type": "markdown",
     "checksum": "85595a4942da5bfb29a1aa8992687364",
     "grade": true,
     "grade_id": "cell-5bdf5d2000379a27",
     "locked": false,
     "points": 0,
     "schema_version": 3,
     "solution": true,
     "task": false
    }
   },
   "source": [
    "YOUR ANSWER HERE"
   ]
  }
 ],
 "metadata": {
  "kernelspec": {
   "display_name": "Python 3.8.8 ('base')",
   "language": "python",
   "name": "python3"
  },
  "language_info": {
   "codemirror_mode": {
    "name": "ipython",
    "version": 3
   },
   "file_extension": ".py",
   "mimetype": "text/x-python",
   "name": "python",
   "nbconvert_exporter": "python",
   "pygments_lexer": "ipython3",
   "version": "3.8.8"
  },
  "vscode": {
   "interpreter": {
    "hash": "d3a944cc3058aa50c0aca891e5a7b77ff393d72d074c3644bd97999f32c63dcd"
   }
  }
 },
 "nbformat": 4,
 "nbformat_minor": 5
}
