{
 "cells": [
  {
   "cell_type": "markdown",
   "id": "6eb65e3a-cec6-464a-b4c9-d657c048f3f1",
   "metadata": {
    "deletable": false,
    "editable": false,
    "nbgrader": {
     "cell_type": "markdown",
     "checksum": "2e75315912c1a1649b5f0daf8d8526a1",
     "grade": false,
     "grade_id": "cell-6423b43f63e98896",
     "locked": true,
     "schema_version": 3,
     "solution": false,
     "task": false
    },
    "tags": []
   },
   "source": [
    "# IS318 - Machine Learning\n",
    "\n",
    "## TP1 - Linear regression  \n",
    "## Authors : Elkarchi Jad & Wardi Mohamed Amine\n",
    "\n",
    "The goal of this TP is to experiment with linear regression and polynomial linear regression.\n",
    "\n",
    "First, we will work **without** the use of external libraries (such as `scikit-learn`)."
   ]
  },
  {
   "cell_type": "code",
   "execution_count": 1,
   "id": "64a5a2b2-ef6b-4af6-8de0-e93c00052419",
   "metadata": {
    "deletable": false,
    "editable": false,
    "executionCancelledAt": null,
    "executionTime": 2796,
    "lastExecutedAt": 1696363910668,
    "lastScheduledRunId": null,
    "lastSuccessfullyExecutedCode": "import numpy as np\nimport matplotlib.pyplot as plt",
    "nbgrader": {
     "cell_type": "code",
     "checksum": "8db2d123d60ab5c5c872b3b5f6df388c",
     "grade": false,
     "grade_id": "cell-8ce3af50a30c576b",
     "locked": true,
     "schema_version": 3,
     "solution": false,
     "task": false
    },
    "tags": []
   },
   "outputs": [],
   "source": [
    "import numpy as np\n",
    "import matplotlib.pyplot as plt"
   ]
  },
  {
   "cell_type": "markdown",
   "id": "1b798d95-ee40-470c-9efe-6f73513acabe",
   "metadata": {
    "deletable": false,
    "editable": false,
    "nbgrader": {
     "cell_type": "markdown",
     "checksum": "f54357d640bdb3dc931efa0ff5d1a0b2",
     "grade": false,
     "grade_id": "cell-1a7c1f6d67f2f2c0",
     "locked": true,
     "schema_version": 3,
     "solution": false,
     "task": false
    },
    "tags": []
   },
   "source": [
    "### 1. Dataset"
   ]
  },
  {
   "cell_type": "code",
   "execution_count": 2,
   "id": "a10f1001-e8c3-44fd-a7b6-db63519bfd58",
   "metadata": {
    "deletable": false,
    "editable": false,
    "executionCancelledAt": null,
    "executionTime": 155,
    "lastExecutedAt": 1696366338533,
    "lastScheduledRunId": null,
    "lastSuccessfullyExecutedCode": "# Let us generate data points from a relatively complicated function\nN = 100\nalpha, sigma = 2., 3.\nX = np.linspace(-3, 3, num=N)\ny = X + (alpha * np.sin((2. * np.pi * X) / sigma) * np.exp(-(X ** 2) / (sigma ** 2)))\n# Add some random noise\nrng = np.random.default_rng(42)\ny_noisy = y + rng.standard_normal(N) * 2.\n# Show the data points\nplt.plot(X, y_noisy, 'o')\nplt.plot(X, y)\nplt.tight_layout()",
    "nbgrader": {
     "cell_type": "code",
     "checksum": "e5de1fe7d5aaae1875c4a69b0c08ca52",
     "grade": false,
     "grade_id": "cell-88e65b981197691f",
     "locked": true,
     "schema_version": 3,
     "solution": false,
     "task": false
    },
    "tags": []
   },
   "outputs": [
    {
     "data": {
      "image/png": "[encoded data removed]",
      "text/plain": [
       "<Figure size 640x480 with 1 Axes>"
      ]
     },
     "metadata": {},
     "output_type": "display_data"
    }
   ],
   "source": [
    "# Let us generate data points from a relatively complicated function\n",
    "N = 100\n",
    "alpha, sigma = 2., 3.\n",
    "X = np.linspace(-3, 3, num=N)\n",
    "y = X + (alpha * np.sin((2. * np.pi * X) / sigma) * np.exp(-(X ** 2) / (sigma ** 2)))\n",
    "# Add some random noise\n",
    "rng = np.random.default_rng(42)\n",
    "y_noisy = y + rng.standard_normal(N) * 2.\n",
    "# Show the data points\n",
    "plt.figure()\n",
    "plt.plot(X, y_noisy, 'o')\n",
    "plt.plot(X, y)\n",
    "plt.tight_layout()\n",
    "plt.show()\n",
    "plt.close()"
   ]
  },
  {
   "cell_type": "markdown",
   "id": "b2aee466-b495-4f4d-a2ca-739de04b8c8a",
   "metadata": {
    "deletable": false,
    "editable": false,
    "nbgrader": {
     "cell_type": "markdown",
     "checksum": "1763f35098aedc40398a55b72eea5de9",
     "grade": false,
     "grade_id": "cell-592514d0abb550f9",
     "locked": true,
     "schema_version": 3,
     "solution": false,
     "task": false
    },
    "tags": []
   },
   "source": [
    "**(Question)** Shuffle and split the dataset into training (75%) and validation (25%) sets. Store the results into variables `X_train`, `y_train`, `X_valid`, `y_valid`.\n",
    "\n",
    "*Hint:* you can use `rng.permutation` to generate a random permutation of the points."
   ]
  },
  {
   "cell_type": "code",
   "execution_count": 3,
   "id": "ea383011",
   "metadata": {
    "deletable": false,
    "executionCancelledAt": null,
    "executionTime": 50,
    "lastExecutedAt": 1696364813577,
    "lastScheduledRunId": null,
    "lastSuccessfullyExecutedCode": "# shuffling\nX_shuffled = rng.permutation(X)\ny_shuffled = rng.permutation(y_noisy)\n\n# splitting\nsplit_percentile = len(X_shuffled)*75//100\nX_train, X_valid = X_shuffled[:split_percentile], X_shuffled[split_percentile:]\ny_train, y_valid = y_shuffled[:split_percentile], y_shuffled[split_percentile:]",
    "nbgrader": {
     "cell_type": "code",
     "checksum": "5ac28a81d79677168b18c7867af37906",
     "grade": false,
     "grade_id": "train-valid-split",
     "locked": false,
     "schema_version": 3,
     "solution": true,
     "task": false
    },
    "tags": []
   },
   "outputs": [],
   "source": [
    "# shuffling\n",
    "permutation_indices = rng.permutation(len(X))\n",
    "X_shuffled = X[permutation_indices]\n",
    "y_shuffled = y_noisy[permutation_indices]\n",
    "\n",
    "# splitting\n",
    "split_percentile = len(X_shuffled)*75//100\n",
    "X_train, X_valid = X_shuffled[:split_percentile], X_shuffled[split_percentile:]\n",
    "y_train, y_valid = y_shuffled[:split_percentile], y_shuffled[split_percentile:]"
   ]
  },
  {
   "cell_type": "code",
   "execution_count": 4,
   "id": "8a33f7b2-d77d-4a2b-b723-c1c9b707addc",
   "metadata": {
    "deletable": false,
    "editable": false,
    "executionCancelledAt": null,
    "executionTime": 11,
    "lastExecutedAt": 1696364815202,
    "lastScheduledRunId": null,
    "lastSuccessfullyExecutedCode": "assert X_train.shape == (75,)\nassert y_train.shape == (75,)\nassert X_valid.shape == (25,)\nassert y_valid.shape == (25,)\nassert np.any(X_valid != X[75:]) # points should be shuffled",
    "nbgrader": {
     "cell_type": "code",
     "checksum": "2d40bc22a80eedcfce136a6136d71a94",
     "grade": true,
     "grade_id": "train-valid-split-tests",
     "locked": true,
     "points": 1,
     "schema_version": 3,
     "solution": false,
     "task": false
    },
    "tags": []
   },
   "outputs": [],
   "source": [
    "assert X_train.shape == (75,)\n",
    "assert y_train.shape == (75,)\n",
    "assert X_valid.shape == (25,)\n",
    "assert y_valid.shape == (25,)\n",
    "assert np.any(X_valid != X[75:]) # points should be shuffled"
   ]
  },
  {
   "cell_type": "markdown",
   "id": "db2d33dc-d3f2-4e79-814d-2a90a6b4aa09",
   "metadata": {
    "deletable": false,
    "editable": false,
    "nbgrader": {
     "cell_type": "markdown",
     "checksum": "80754b0c31ee2eeee212a89a87c2331a",
     "grade": false,
     "grade_id": "cell-a50781303dbb0b89",
     "locked": true,
     "schema_version": 3,
     "solution": false,
     "task": false
    },
    "tags": []
   },
   "source": [
    "### 2. Linear regression in 1D\n",
    "\n",
    "Recall the 1D linear regression model, where we search for parameters $w_0, w_1$ that will satisfy $y_i = w_0 + w_1 x_i$ (for all $i$ in the training set).\n",
    "\n",
    "To simplify calculations, we usually set $\\textbf{w} = [w_0, w_1]^T$ and $\\textbf{x}_i = [1, x_i]^T$.\n",
    "\n",
    "Then we have $y_i = \\textbf{w}^T \\textbf{x}_i $."
   ]
  },
  {
   "cell_type": "markdown",
   "id": "fbf33cae",
   "metadata": {
    "deletable": false,
    "editable": false,
    "nbgrader": {
     "cell_type": "markdown",
     "checksum": "2375cb0786713962b9aac46a09c94784",
     "grade": false,
     "grade_id": "cell-00faf05cb395d4cb",
     "locked": true,
     "schema_version": 3,
     "solution": false,
     "task": false
    },
    "tags": []
   },
   "source": [
    "**(Question)** Add a column with ones to the points in `X_train` and `X_valid`. Store the result in new variables `X_train_ones` and `X_valid_ones`:"
   ]
  },
  {
   "cell_type": "code",
   "execution_count": 5,
   "id": "b254912c",
   "metadata": {
    "deletable": false,
    "executionCancelledAt": null,
    "executionTime": 14,
    "lastExecutedAt": 1696365734588,
    "lastScheduledRunId": null,
    "lastSuccessfullyExecutedCode": "X_train_ones = np.column_stack((np.ones_like(X_train), X_train))\nX_valid_ones = np.column_stack((np.ones_like(X_valid), X_valid))\n\nX_train_ones.shape",
    "nbgrader": {
     "cell_type": "code",
     "checksum": "29817cde0841dbbfaeb339c7ea721300",
     "grade": true,
     "grade_id": "stack-one",
     "locked": false,
     "points": 1,
     "schema_version": 3,
     "solution": true,
     "task": false
    },
    "tags": []
   },
   "outputs": [
    {
     "data": {
      "text/plain": [
       "(75, 2)"
      ]
     },
     "execution_count": 5,
     "metadata": {},
     "output_type": "execute_result"
    }
   ],
   "source": [
    "X_train_ones = np.column_stack((np.ones_like(X_train), X_train))\n",
    "X_valid_ones = np.column_stack((np.ones_like(X_valid), X_valid))\n",
    "\n",
    "X_train_ones.shape"
   ]
  },
  {
   "cell_type": "markdown",
   "id": "04d97fd7",
   "metadata": {
    "deletable": false,
    "editable": false,
    "nbgrader": {
     "cell_type": "markdown",
     "checksum": "9b5c6a9eed69c0176b2f7c6ac179e958",
     "grade": false,
     "grade_id": "cell-e585b2cb96ff6c9f",
     "locked": true,
     "schema_version": 3,
     "solution": false,
     "task": false
    },
    "tags": []
   },
   "source": [
    "**(Question)** Use normal equations to find the parameters that minimize the mean squared error on the training set."
   ]
  },
  {
   "cell_type": "code",
   "execution_count": 6,
   "id": "c13562da-c082-4e9f-b4e3-f989988bd6ab",
   "metadata": {
    "deletable": false,
    "executionCancelledAt": null,
    "executionTime": 13,
    "lastExecutedAt": 1696368506415,
    "lastScheduledRunId": null,
    "lastSuccessfullyExecutedCode": "w = np.linalg.lstsq(X_train_ones, y_train, rcond=None)[0]\n\n# the weights solving the previous normal equation are :\nw",
    "nbgrader": {
     "cell_type": "code",
     "checksum": "7febcd7c3a98df1b78caf6c2bb45ee34",
     "grade": false,
     "grade_id": "solve-w",
     "locked": false,
     "schema_version": 3,
     "solution": true,
     "task": false
    },
    "tags": []
   },
   "outputs": [
    {
     "data": {
      "text/plain": [
       "array([-0.03550166,  0.68680383])"
      ]
     },
     "execution_count": 6,
     "metadata": {},
     "output_type": "execute_result"
    }
   ],
   "source": [
    "w = np.dot(np.dot(np.linalg.inv(np.dot(X_train_ones.T, X_train_ones)), X_train_ones.T), y_train)\n",
    "\n",
    "# the weights solving the previous normal equation are :\n",
    "w"
   ]
  },
  {
   "cell_type": "code",
   "execution_count": 7,
   "id": "cb72d20d",
   "metadata": {
    "deletable": false,
    "editable": false,
    "executionCancelledAt": null,
    "executionTime": 10,
    "lastExecutedAt": 1696366171715,
    "lastScheduledRunId": null,
    "lastSuccessfullyExecutedCode": "assert w.shape == (2,)",
    "nbgrader": {
     "cell_type": "code",
     "checksum": "aa41553e609fb4afac175ddf1298dd62",
     "grade": true,
     "grade_id": "solve-w-tests",
     "locked": true,
     "points": 1,
     "schema_version": 3,
     "solution": false,
     "task": false
    },
    "tags": []
   },
   "outputs": [],
   "source": [
    "assert w.shape == (2,)"
   ]
  },
  {
   "cell_type": "markdown",
   "id": "870f4028",
   "metadata": {
    "deletable": false,
    "editable": false,
    "nbgrader": {
     "cell_type": "markdown",
     "checksum": "5636b8ccbed864487e7384bc01ae8ab0",
     "grade": false,
     "grade_id": "plot-fit",
     "locked": true,
     "points": 2,
     "schema_version": 3,
     "solution": false,
     "task": true
    },
    "tags": []
   },
   "source": [
    "**(Question)** Plot the fitted line on top of the data points. Explain the result. (complete the code and answer in the cell below)"
   ]
  },
  {
   "cell_type": "code",
   "execution_count": 8,
   "id": "3e191cf0",
   "metadata": {
    "deletable": false,
    "executionCancelledAt": null,
    "executionTime": 168,
    "lastExecutedAt": 1696366647441,
    "lastScheduledRunId": null,
    "lastSuccessfullyExecutedCode": "# Show the fitted line\nplt.plot(X, y_noisy, 'o')\nplt.plot(X, y)\nplt.plot(X_valid, np.dot(w, X_valid_ones.T), color='red', label=\"linear regression in 1D\")\nplt.legend()\nplt.tight_layout()",
    "nbgrader": {
     "cell_type": "code",
     "checksum": "c1a7cd1c8b02e6b8554e3a39e27b0be4",
     "grade": true,
     "grade_id": "cell-9fc189849b7c1c95",
     "locked": false,
     "points": 0,
     "schema_version": 3,
     "solution": true,
     "task": false
    },
    "tags": []
   },
   "outputs": [
    {
     "data": {
      "image/png": "[encoded data removed]",
      "text/plain": [
       "<Figure size 640x480 with 1 Axes>"
      ]
     },
     "metadata": {},
     "output_type": "display_data"
    }
   ],
   "source": [
    "# Show the fitted line\n",
    "plt.figure()\n",
    "plt.plot(X, y_noisy, 'o')\n",
    "plt.plot(X, y)\n",
    "plt.plot(X_valid, np.dot(w, X_valid_ones.T), color='red', label=\"linear regression in 1D\")\n",
    "plt.legend()\n",
    "plt.tight_layout()\n",
    "plt.show()\n",
    "plt.close()"
   ]
  },
  {
   "cell_type": "markdown",
   "id": "12f3fdbd-8e82-4a00-a6fc-7abe8f72f470",
   "metadata": {
    "deletable": false,
    "nbgrader": {
     "cell_type": "markdown",
     "checksum": "9a43c31d790d5ba4cd33b69f4c42de1f",
     "grade": true,
     "grade_id": "cell-2811bfa6b2ec3501",
     "locked": false,
     "points": 0,
     "schema_version": 3,
     "solution": true,
     "task": false
    },
    "tags": []
   },
   "source": [
    "## **Answer :** \n",
    "**The plot above show a straight line model that allow us the have a vague idea about the data distribution. Although it doesn't represent the data points accurately it does follow the distribution in 1D, which is something to be expected when using a 1 dimension normal equation.**"
   ]
  },
  {
   "cell_type": "markdown",
   "id": "3e1d6b77",
   "metadata": {
    "deletable": false,
    "editable": false,
    "nbgrader": {
     "cell_type": "markdown",
     "checksum": "cad31134bac8876f7b401a3e95c2d5ca",
     "grade": false,
     "grade_id": "plot-loss",
     "locked": true,
     "points": 2,
     "schema_version": 3,
     "solution": false,
     "task": true
    },
    "tags": []
   },
   "source": [
    "**(Question)** Plot the loss function landscape. What can you conclude from this visualization? (complete the code and answer in the cell below)\n",
    "\n",
    "*Hint: the loss landscape can be represented by a 2D map (for example of size 100x100) where in each coordinate $(w_0, w_1)$ the value is mean squared error for these parameters. You can use `plt.contourf` to visualize the result.*"
   ]
  },
  {
   "cell_type": "code",
   "execution_count": 9,
   "id": "82e92316",
   "metadata": {
    "deletable": false,
    "executionCancelledAt": null,
    "executionTime": 278,
    "lastExecutedAt": 1696368403579,
    "lastScheduledRunId": null,
    "lastSuccessfullyExecutedCode": "# we choose the following loss function (2D)\nloss = (np.tile(y_valid, (25, 1)) - np.tile(np.dot(w, X_valid_ones.T), (25, 1))) ** 2\n\nassert loss.shape == (25, 25)\n\n# Create a grid of points\nx = np.linspace(0, 1, 25)\ny = np.linspace(0, 1, 25)\nX, Y = np.meshgrid(x, y)\n\n\n# Create a contour plot\nplt.contourf(X, Y, loss, cmap='viridis')\nplt.colorbar()  # Add a colorbar to show the scale\nplt.xlabel('X-axis')\nplt.ylabel('Y-axis')\nplt.title('2D Map of Loss')\nplt.tight_layout()",
    "nbgrader": {
     "cell_type": "code",
     "checksum": "0509691e6196b12131104986b413a489",
     "grade": true,
     "grade_id": "cell-5a7320a1abb19319",
     "locked": false,
     "points": 0,
     "schema_version": 3,
     "solution": true,
     "task": false
    },
    "tags": []
   },
   "outputs": [
    {
     "data": {
      "image/png": "[encoded data removed]",
      "text/plain": [
       "<Figure size 640x480 with 2 Axes>"
      ]
     },
     "metadata": {},
     "output_type": "display_data"
    }
   ],
   "source": [
    "# we choose the following loss function (2D)\n",
    "w0 = np.linspace(w[0]-0.2, w[0]+0.2, 100)\n",
    "w1 = np.linspace(w[1]-0.2, w[1]+0.2, 100)\n",
    "loss = np.empty((100, 100))\n",
    "\n",
    "for i in range(100) :\n",
    "    for j in range(100) :\n",
    "        loss[i, j] = np.mean((y_train - np.dot(X_train_ones, np.array([w0[i], w1[j]])))**2)\n",
    "\n",
    "assert loss.shape == (100, 100)\n",
    "\n",
    "# Create a grid of points\n",
    "X, Y = np.meshgrid(w0, w1)\n",
    "\n",
    "# Create a contour plot\n",
    "plt.figure()\n",
    "plt.contourf(X, Y, loss, cmap='viridis')\n",
    "plt.scatter(w[0], w[1], color=\"red\")\n",
    "plt.colorbar()\n",
    "plt.xlabel('w0-axis')\n",
    "plt.ylabel('w1-axis')\n",
    "plt.title('2D Map of Loss')\n",
    "plt.tight_layout()\n",
    "plt.show()\n",
    "plt.close()"
   ]
  },
  {
   "cell_type": "markdown",
   "id": "f070b78b",
   "metadata": {
    "deletable": false,
    "nbgrader": {
     "cell_type": "markdown",
     "checksum": "2fab9a205962a9ebf17d17c0172c4311",
     "grade": true,
     "grade_id": "cell-d477d2d900a8b2e5",
     "locked": false,
     "points": 0,
     "schema_version": 3,
     "solution": true,
     "task": false
    },
    "tags": []
   },
   "source": [
    "## Answer :\n",
    "As we can see from the 2D loss map, the calculated w (the red dot) parameter by minimizing the mean squared error is indeed in the minimal part of the Map"
   ]
  },
  {
   "cell_type": "markdown",
   "id": "b7a97e54",
   "metadata": {
    "deletable": false,
    "editable": false,
    "nbgrader": {
     "cell_type": "markdown",
     "checksum": "968e9d4eb788317fe97c6fa98d51cbb3",
     "grade": false,
     "grade_id": "cell-9d81b70df8d2f2fd",
     "locked": true,
     "schema_version": 3,
     "solution": false,
     "task": false
    },
    "tags": []
   },
   "source": [
    "### 3. Polynomial linear regression\n",
    "\n",
    "We move on the polynomial linear regression model with degree $D$, where the relationship between $y_i$ and $x_i$ is\n",
    "$ y_i = w_0 + w_1x_i + w_2x_i^2 + \\ldots + w_D x_i^D $\n",
    "\n",
    "With $\\textbf{w} = [w_0, \\ldots, w_D]^T$ and $\\textbf{x}_i = [1, x_i, x_i^2, \\ldots, x_i^D]^T$, we have $y_i = \\textbf{w}^T \\textbf{x}_i $.\n",
    "\n",
    "$D \\geq 1$ is an hyperparameter of the model."
   ]
  },
  {
   "cell_type": "markdown",
   "id": "d34b43a7-9665-4b23-b2d9-eef530f89faa",
   "metadata": {
    "deletable": false,
    "editable": false,
    "nbgrader": {
     "cell_type": "markdown",
     "checksum": "a7a358605f794eeb7b9a178469ec43bb",
     "grade": false,
     "grade_id": "cell-81be175807d22f40",
     "locked": true,
     "schema_version": 3,
     "solution": false,
     "task": false
    },
    "tags": []
   },
   "source": [
    "**(Question)** Complete the following `PolynomialRegression` class"
   ]
  },
  {
   "cell_type": "code",
   "execution_count": 10,
   "id": "28079bb8-3bf3-4cde-8107-c71dff9a399b",
   "metadata": {
    "deletable": false,
    "executionCancelledAt": null,
    "executionTime": 13,
    "lastExecutedAt": 1696369269368,
    "lastScheduledRunId": null,
    "lastSuccessfullyExecutedCode": "class PolynomialRegression():\n    def __init__(self, D=1):\n        assert D >=1\n        self.D = D\n        \n    def fit(self, X, y):\n        '''Apply polynomial linear regression to fit `X` to `y`.\n        The result should be stored in an attribute `w`.'''\n        self.w = np.linalg.lstsq(X, y, rcond=None)[0]\n        \n    def predict(self, X):\n        '''Assuming the model has already been fit, return\n        predicted `y` values for given `X`.'''\n        if not hasattr(self, 'w') :\n            raise AttributeError(\"fit the model before predicting X\")\n        return np.dot(self.w, X.T)\n\n    def make_poly(self, X):\n        '''Augment a dataset of 1D points (vector of size N) to its\n        data matrix in polynomial form, including the zero column \n        (matrix of size N x D+1). Return the data matrix.'''\n        assert X.ndim == 1\n        return np.vander(X, self.D+1, increasing=True)",
    "nbgrader": {
     "cell_type": "code",
     "checksum": "571a0e74677fee6e602a2539eb0d97f9",
     "grade": true,
     "grade_id": "polynomial-regression",
     "locked": false,
     "points": 2,
     "schema_version": 3,
     "solution": true,
     "task": false
    },
    "tags": []
   },
   "outputs": [],
   "source": [
    "class PolynomialRegression():\n",
    "    def __init__(self, D=1):\n",
    "        assert D >=1\n",
    "        self.D = D\n",
    "        \n",
    "    def fit(self, X, y):\n",
    "        '''Apply polynomial linear regression to fit `X` to `y`.\n",
    "        The result should be stored in an attribute `w`.'''\n",
    "        self.w = np.dot(np.dot(np.linalg.inv(np.dot(X.T, X)), X.T), y)\n",
    "        \n",
    "    def predict(self, X):\n",
    "        '''Assuming the model has already been fit, return\n",
    "        predicted `y` values for given `X`.'''\n",
    "        if not hasattr(self, 'w') :\n",
    "            raise AttributeError(\"fit the model before predicting X\")\n",
    "        return np.dot(X, self.w)\n",
    "\n",
    "    def make_poly(self, X):\n",
    "        '''Augment a dataset of 1D points (vector of size N) to its\n",
    "        data matrix in polynomial form, including the zero column \n",
    "        (matrix of size N x D+1). Return the data matrix.'''\n",
    "        assert X.ndim == 1\n",
    "        return np.vander(X, self.D+1, increasing=True)"
   ]
  },
  {
   "cell_type": "markdown",
   "id": "3e86708c",
   "metadata": {
    "deletable": false,
    "editable": false,
    "nbgrader": {
     "cell_type": "markdown",
     "checksum": "caaabea2ec7c465b326338f85b7b3830",
     "grade": false,
     "grade_id": "cell-134419d23b4fc5cd",
     "locked": true,
     "schema_version": 3,
     "solution": false,
     "task": false
    },
    "tags": []
   },
   "source": [
    "**(Question)** Implement the mean squared error function to measure the quality of predictions."
   ]
  },
  {
   "cell_type": "code",
   "execution_count": 11,
   "id": "7a9c94b7",
   "metadata": {
    "deletable": false,
    "executionCancelledAt": null,
    "executionTime": 12,
    "lastExecutedAt": 1696369256692,
    "lastScheduledRunId": null,
    "lastSuccessfullyExecutedCode": "def mean_squared_error(y_true, y_pred):\n    '''Return the mean squared error between `y_true` and `y_pred`.'''\n    assert y_true.shape == y_pred.shape\n    return np.mean((y_pred - y_true) ** 2)",
    "nbgrader": {
     "cell_type": "code",
     "checksum": "f037b0820c1ecfdfe6d4e82568bfbf01",
     "grade": false,
     "grade_id": "mse",
     "locked": false,
     "schema_version": 3,
     "solution": true,
     "task": false
    },
    "tags": []
   },
   "outputs": [],
   "source": [
    "def mean_squared_error(y_true, y_pred):\n",
    "    '''Return the mean squared error between `y_true` and `y_pred`.'''\n",
    "    assert y_true.shape == y_pred.shape\n",
    "    return np.mean((y_pred - y_true)**2)"
   ]
  },
  {
   "cell_type": "code",
   "execution_count": 12,
   "id": "e60be97a",
   "metadata": {
    "deletable": false,
    "editable": false,
    "executionCancelledAt": null,
    "executionTime": 11,
    "lastExecutedAt": 1696369259269,
    "lastScheduledRunId": null,
    "lastSuccessfullyExecutedCode": "a, b = np.random.randn(10), np.random.randn(10)\nassert mean_squared_error(a, b) >= 0.\nassert mean_squared_error(a, a) == 0.",
    "nbgrader": {
     "cell_type": "code",
     "checksum": "c6a43c39fc1cfa77be1a21833fc5386b",
     "grade": true,
     "grade_id": "mse-tests",
     "locked": true,
     "points": 1,
     "schema_version": 3,
     "solution": false,
     "task": false
    },
    "tags": []
   },
   "outputs": [],
   "source": [
    "a, b = np.random.randn(10), np.random.randn(10)\n",
    "assert mean_squared_error(a, b) >= 0.\n",
    "assert mean_squared_error(a, a) == 0."
   ]
  },
  {
   "cell_type": "markdown",
   "id": "85f497eb",
   "metadata": {
    "deletable": false,
    "editable": false,
    "nbgrader": {
     "cell_type": "markdown",
     "checksum": "6f5d068c99a260e5f9a449f7e7514d21",
     "grade": false,
     "grade_id": "cell-efa1920e97836d98",
     "locked": true,
     "schema_version": 3,
     "solution": false,
     "task": false
    },
    "tags": []
   },
   "source": [
    "**(Question)** Apply the polynomial regression model with $D=5$. Compute and print the mean squared error for the training and validation sets."
   ]
  },
  {
   "cell_type": "code",
   "execution_count": 13,
   "id": "0f7b4374-f5fc-4e23-add6-872c1c0b50d7",
   "metadata": {},
   "outputs": [
    {
     "name": "stdout",
     "output_type": "stream",
     "text": [
      "3.321513387311777\n"
     ]
    }
   ],
   "source": [
    "# YOUR CODE HERE\n",
    "pr = PolynomialRegression(D=5)\n",
    "X_poly_train, X_poly_valid = pr.make_poly(X_train), pr.make_poly(X_valid)\n",
    "pr.fit(X_poly_train, y_train)\n",
    "y_pred = pr.predict(X_poly_valid)\n",
    "mse = mean_squared_error(y_valid, y_pred)\n",
    "print(mse)"
   ]
  },
  {
   "cell_type": "markdown",
   "id": "93453e6f",
   "metadata": {
    "deletable": false,
    "editable": false,
    "nbgrader": {
     "cell_type": "markdown",
     "checksum": "7937911223ee22e1af8dd591041e5ec6",
     "grade": false,
     "grade_id": "plot-polyreg",
     "locked": true,
     "points": 1,
     "schema_version": 3,
     "solution": false,
     "task": true
    },
    "tags": []
   },
   "source": [
    "**(Question)** Plot the fitted polynomial curve on top of the data points. Explain the result. (complete the code and answer in the cell below)"
   ]
  },
  {
   "cell_type": "code",
   "execution_count": 14,
   "id": "18e873c6",
   "metadata": {
    "deletable": false,
    "nbgrader": {
     "cell_type": "code",
     "checksum": "4e31887b59bf417e843a006aead28342",
     "grade": true,
     "grade_id": "cell-850ac8c17b9b160a",
     "locked": false,
     "points": 0,
     "schema_version": 3,
     "solution": true,
     "task": false
    },
    "tags": []
   },
   "outputs": [
    {
     "data": {
      "image/png": "[encoded data removed]",
      "text/plain": [
       "<Figure size 640x480 with 1 Axes>"
      ]
     },
     "metadata": {},
     "output_type": "display_data"
    }
   ],
   "source": [
    "# YOUR CODE HERE\n",
    "X = np.linspace(-3, 3, num=N)\n",
    "y = X + (alpha * np.sin((2. * np.pi * X) / sigma) * np.exp(-(X ** 2) / (sigma ** 2)))\n",
    "# Add some random noise\n",
    "y_noisy = y + rng.standard_normal(N) * 2.\n",
    "plt.figure()\n",
    "plt.plot(X, y_noisy, 'o')\n",
    "plt.plot(X, y)\n",
    "plt.scatter(X_valid, y_pred, color='red', label=\"polynomial regression prediction, D=5\")\n",
    "plt.legend()\n",
    "plt.tight_layout()\n",
    "plt.show()\n",
    "plt.close()\n"
   ]
  },
  {
   "cell_type": "markdown",
   "id": "cf75f7b1-c39c-41b8-9717-c4b8d61d05ac",
   "metadata": {
    "deletable": false,
    "nbgrader": {
     "cell_type": "markdown",
     "checksum": "6d8f750e56b7e818e78164360450ea70",
     "grade": true,
     "grade_id": "cell-179ac722397feeab",
     "locked": false,
     "points": 0,
     "schema_version": 3,
     "solution": true,
     "task": false
    },
    "tags": []
   },
   "source": [
    "We have a more repsentative result with D = 5, as we can see from the figure it is closer to real reprsentation (in orange)"
   ]
  },
  {
   "cell_type": "markdown",
   "id": "3c2a0d9a",
   "metadata": {
    "deletable": false,
    "editable": false,
    "nbgrader": {
     "cell_type": "markdown",
     "checksum": "4084752652a833d92ec16d124f122e82",
     "grade": false,
     "grade_id": "model-selection",
     "locked": true,
     "points": 2,
     "schema_version": 3,
     "solution": false,
     "task": true
    },
    "tags": []
   },
   "source": [
    "**(Question)** Using the validation set, implement a simple model selection strategy to optimize hyperparameter $D$ and print this value. For this question, you should limit the search to $D \\in [1, 15]$.\n",
    "To visualize potential underfitting and overfitting effects, plot the evolution of the error on the training and the validation sets for the different values of $D$."
   ]
  },
  {
   "cell_type": "code",
   "execution_count": 15,
   "id": "7e971843-58fb-43e2-9d86-b8a263600d28",
   "metadata": {
    "deletable": false,
    "nbgrader": {
     "cell_type": "code",
     "checksum": "bd275b9b9db0e827b8c0fd6e54b5d11d",
     "grade": true,
     "grade_id": "cell-41640ccdf206336f",
     "locked": false,
     "points": 0,
     "schema_version": 3,
     "solution": true,
     "task": false
    },
    "tags": []
   },
   "outputs": [
    {
     "data": {
      "image/png": "[encoded data removed]",
      "text/plain": [
       "<Figure size 640x480 with 1 Axes>"
      ]
     },
     "metadata": {},
     "output_type": "display_data"
    }
   ],
   "source": [
    "# YOUR CODE HERE\n",
    "error_values = np.empty((15,))\n",
    "for i in range(1, 16) :\n",
    "    pr = PolynomialRegression(D=i)\n",
    "    X_poly_train, X_poly_valid = pr.make_poly(X_train), pr.make_poly(X_valid)\n",
    "    pr.fit(X_poly_train, y_train)\n",
    "    y_pred = pr.predict(X_poly_valid)\n",
    "    mse = mean_squared_error(y_valid, y_pred)\n",
    "    error_values[i-1] = mse\n",
    "\n",
    "plt.figure()\n",
    "plt.plot(range(1, 16), error_values)\n",
    "plt.show()\n",
    "plt.close()"
   ]
  },
  {
   "cell_type": "markdown",
   "id": "006fc507",
   "metadata": {
    "deletable": false,
    "editable": false,
    "nbgrader": {
     "cell_type": "markdown",
     "checksum": "667ce4fb6c08f2bdf25deb104694054a",
     "grade": false,
     "grade_id": "model-selection-plot",
     "locked": true,
     "points": 1,
     "schema_version": 3,
     "solution": false,
     "task": true
    },
    "tags": []
   },
   "source": [
    "**(Question)** Plot the fitted polynomial curve of the best model on top of the data points. Comment the results."
   ]
  },
  {
   "cell_type": "code",
   "execution_count": 16,
   "id": "7101773d",
   "metadata": {
    "deletable": false,
    "nbgrader": {
     "cell_type": "code",
     "checksum": "642145dfb333b607ceb8f6327cb4700b",
     "grade": true,
     "grade_id": "cell-0bdafbf3133605ca",
     "locked": false,
     "points": 0,
     "schema_version": 3,
     "solution": true,
     "task": false
    },
    "tags": []
   },
   "outputs": [
    {
     "data": {
      "image/png": "[encoded data removed]",
      "text/plain": [
       "<Figure size 640x480 with 1 Axes>"
      ]
     },
     "metadata": {},
     "output_type": "display_data"
    }
   ],
   "source": [
    "# YOUR CODE HERE\n",
    "d_best = np.argmin(error_values) + 1\n",
    "\n",
    "pr = PolynomialRegression(D=d_best)\n",
    "X_poly_train, X_poly_valid = pr.make_poly(X_train), pr.make_poly(X_valid)\n",
    "pr.fit(X_poly_train, y_train)\n",
    "y_pred_best = pr.predict(X_poly_valid)\n",
    "\n",
    "plt.figure()\n",
    "plt.plot(X, y_noisy, 'o')\n",
    "plt.plot(X, y)\n",
    "plt.scatter(X_valid, y_pred_best, color='red', label=\"polynomial regression prediction, D=8\")\n",
    "plt.legend()\n",
    "plt.tight_layout()\n",
    "plt.show()\n",
    "plt.close()\n"
   ]
  },
  {
   "cell_type": "markdown",
   "id": "de6c08a8-993d-4273-8235-d75adaa8e672",
   "metadata": {
    "deletable": false,
    "nbgrader": {
     "cell_type": "markdown",
     "checksum": "bce9e5800af711377a8c64273a8ce55b",
     "grade": true,
     "grade_id": "cell-a69e4cdfce15e1cd",
     "locked": false,
     "points": 0,
     "schema_version": 3,
     "solution": true,
     "task": false
    },
    "tags": []
   },
   "source": [
    "It is follows the same behavior as the real representation and it is very close to it."
   ]
  },
  {
   "cell_type": "markdown",
   "id": "b62eef27",
   "metadata": {
    "deletable": false,
    "editable": false,
    "nbgrader": {
     "cell_type": "markdown",
     "checksum": "c91dec77063c80e227ec871955ce3a4f",
     "grade": false,
     "grade_id": "cell-7e102b957010a338",
     "locked": true,
     "schema_version": 3,
     "solution": false,
     "task": false
    }
   },
   "source": [
    "### 4. Regularized polynomial regression\n",
    "\n",
    "Now, we want to implement polynomial regression with *weight decay* regularization:\n",
    "$\\hat{L}(\\textbf{w}) = \\frac{1}{N} \\lVert \\textbf{X} \\textbf{w} - \\textbf{y} \\rVert^2 + \\lambda \\lVert\\textbf{w}\\rVert^2$\n",
    "\n",
    "Here, $\\lambda \\geq 0$ is another hyperparameter of our model."
   ]
  },
  {
   "cell_type": "markdown",
   "id": "e36924b2-cfb1-478d-8afc-0578f209408f",
   "metadata": {
    "deletable": false,
    "editable": false,
    "nbgrader": {
     "cell_type": "markdown",
     "checksum": "f38f56b968985daedf38995031e67558",
     "grade": false,
     "grade_id": "cell-de3277f460f5b4ae",
     "locked": true,
     "schema_version": 3,
     "solution": false,
     "task": false
    }
   },
   "source": [
    "**(Question)** Complete the following `RegularizedPolynomialRegression` class."
   ]
  },
  {
   "cell_type": "code",
   "execution_count": 17,
   "id": "a371d80b",
   "metadata": {
    "deletable": false,
    "nbgrader": {
     "cell_type": "code",
     "checksum": "56dc626b44cc0d682701a47a456c45bc",
     "grade": true,
     "grade_id": "polyreg-regularized",
     "locked": false,
     "points": 1,
     "schema_version": 3,
     "solution": true,
     "task": false
    },
    "tags": []
   },
   "outputs": [],
   "source": [
    "class RegularizedPolynomialRegression():\n",
    "    def __init__(self, D=1, lmbda=1.):\n",
    "        assert D >=1 and lmbda >= 0.\n",
    "        self.D = D\n",
    "        self.lmbda = lmbda\n",
    "        \n",
    "    def fit(self, X, y):\n",
    "        '''Apply polynomial linear regression to fit `X` to `y`.\n",
    "        The result should be stored in an attribute `w`.'''\n",
    "        # YOUR CODE HERE\n",
    "        XtX = np.dot(X.T, X)\n",
    "        self.w = np.dot(np.dot(np.linalg.inv(self.lmbda*np.eye(XtX.shape[0]) + XtX), X.T), y)\n",
    "        \n",
    "    def predict(self, X):\n",
    "        '''Assuming the model has already been fit, return\n",
    "        predicted `y` values for given `X`.'''\n",
    "        # YOUR CODE HERE\n",
    "        if not hasattr(self, 'w') :\n",
    "            raise AttributeError(\"fit the model before predicting X\")\n",
    "        return np.dot(X, self.w)\n",
    "\n",
    "    def make_poly(self, X):\n",
    "        '''Augment a dataset of 1D points (vector of size N) to its\n",
    "        data matrix in polynomial form, including the zero column \n",
    "        (matrix of size N x D+1). Return the data matrix.'''\n",
    "        assert X.ndim == 1\n",
    "        return np.vander(X, self.D+1, increasing=True)"
   ]
  },
  {
   "cell_type": "markdown",
   "id": "bf5a876e-aba2-48c3-ba84-5a2e9404b223",
   "metadata": {
    "deletable": false,
    "editable": false,
    "nbgrader": {
     "cell_type": "markdown",
     "checksum": "d91fae5b44860437ba4925f2086c36a9",
     "grade": false,
     "grade_id": "cell-103fd01e4f18bd87",
     "locked": true,
     "points": 1,
     "schema_version": 3,
     "solution": false,
     "task": true
    },
    "tags": []
   },
   "source": [
    "**(Question)** Apply regularized linear regression and play around with hyperparameters $D$ and $\\lambda$. Plot the result."
   ]
  },
  {
   "cell_type": "code",
   "execution_count": 18,
   "id": "88fe896e",
   "metadata": {
    "deletable": false,
    "nbgrader": {
     "cell_type": "code",
     "checksum": "5f5eae1bc71edbe859dacfc8885fca39",
     "grade": true,
     "grade_id": "apply-polyreg-regularized",
     "locked": false,
     "points": 0,
     "schema_version": 3,
     "solution": true,
     "task": false
    },
    "tags": []
   },
   "outputs": [
    {
     "data": {
      "image/png": "[encoded data removed]",
      "text/plain": [
       "<Figure size 640x480 with 1 Axes>"
      ]
     },
     "metadata": {},
     "output_type": "display_data"
    }
   ],
   "source": [
    "# STILL NEED TO PLAY AROUND THE PARAMETERS\n",
    "rpr = RegularizedPolynomialRegression(D=8, lmbda=0.1)\n",
    "X_poly_train, X_poly_valid = rpr.make_poly(X_train), rpr.make_poly(X_valid)\n",
    "rpr.fit(X_poly_train, y_train)\n",
    "y_pred = rpr.predict(X_poly_valid)\n",
    "\n",
    "plt.figure()\n",
    "plt.plot(X, y_noisy, 'o')\n",
    "plt.plot(X, y)\n",
    "plt.scatter(X_valid, y_pred, color='red', label=\"polynomial regression prediction, D=8, lambda=1\")\n",
    "plt.legend()\n",
    "plt.tight_layout()\n",
    "plt.show()\n",
    "plt.close()"
   ]
  },
  {
   "cell_type": "markdown",
   "id": "a2bd5618",
   "metadata": {
    "deletable": false,
    "editable": false,
    "nbgrader": {
     "cell_type": "markdown",
     "checksum": "6a9791858a9681769a35da95bb0a2869",
     "grade": false,
     "grade_id": "cell-3f87566482994138",
     "locked": true,
     "schema_version": 3,
     "solution": false,
     "task": false
    },
    "tags": []
   },
   "source": [
    "### 5. Comparison with `sklearn`"
   ]
  },
  {
   "cell_type": "code",
   "execution_count": 19,
   "id": "b019657b",
   "metadata": {
    "deletable": false,
    "editable": false,
    "executionCancelledAt": null,
    "executionTime": 376,
    "lastExecutedAt": 1696369490993,
    "lastScheduledRunId": null,
    "lastSuccessfullyExecutedCode": "from sklearn.preprocessing import PolynomialFeatures\nfrom sklearn.linear_model import LinearRegression, Ridge",
    "nbgrader": {
     "cell_type": "code",
     "checksum": "5f39768d5d809efe729c6348b425f9c1",
     "grade": false,
     "grade_id": "cell-2214d7d896066539",
     "locked": true,
     "schema_version": 3,
     "solution": false,
     "task": false
    },
    "tags": []
   },
   "outputs": [],
   "source": [
    "from sklearn.preprocessing import PolynomialFeatures\n",
    "from sklearn.linear_model import LinearRegression, Ridge"
   ]
  },
  {
   "cell_type": "markdown",
   "id": "4e22cfd9-90c9-4ba5-949e-c4364c4f5901",
   "metadata": {
    "deletable": false,
    "editable": false,
    "nbgrader": {
     "cell_type": "markdown",
     "checksum": "19ce745d956bfe4057a36c4df7af9bc6",
     "grade": false,
     "grade_id": "sklearn-comparison",
     "locked": true,
     "points": 2,
     "schema_version": 3,
     "solution": false,
     "task": true
    },
    "tags": []
   },
   "source": [
    "**(Question)** Use the `sklearn` classes imported above to apply polynomial regression on our toy dataset. Compare the results with your implementation and comment."
   ]
  },
  {
   "cell_type": "code",
   "execution_count": 20,
   "id": "b6c22765",
   "metadata": {
    "deletable": false,
    "executionCancelledAt": null,
    "executionTime": 54,
    "lastExecutedAt": 1696369927614,
    "lastScheduledRunId": null,
    "lastSuccessfullyExecutedCode": "# applying LinearRegression\nlinreg = LinearRegression()\nlinreg = linreg.fit( X_train.reshape(-1, 1), y_train)\ny_pred_linreg = linreg.predict(X_valid.reshape(-1, 1))\nprint(\"mse Linear Regression: \", mean_squared_error(y_pred_linreg, y_valid))",
    "nbgrader": {
     "cell_type": "code",
     "checksum": "ae98694413091539f1dab415f676c189",
     "grade": true,
     "grade_id": "cell-0aa9e5838da9ea0c",
     "locked": false,
     "points": 0,
     "schema_version": 3,
     "solution": true,
     "task": false
    },
    "outputsMetadata": {
     "0": {
      "height": 36,
      "type": "stream"
     }
    },
    "tags": []
   },
   "outputs": [
    {
     "name": "stdout",
     "output_type": "stream",
     "text": [
      "mse Linear Regression:  3.2962739129409333\n"
     ]
    }
   ],
   "source": [
    "# applying LinearRegression\n",
    "linreg = LinearRegression()\n",
    "linreg = linreg.fit(X_train.reshape(-1, 1), y_train)\n",
    "y_pred_linreg = linreg.predict(X_valid.reshape(-1, 1))\n",
    "print(\"mse Linear Regression: \", mean_squared_error(y_pred_linreg, y_valid))"
   ]
  },
  {
   "cell_type": "code",
   "execution_count": 21,
   "id": "35e45343-959f-4d81-b758-ec5b31b0023a",
   "metadata": {
    "deletable": false,
    "executionCancelledAt": null,
    "executionTime": 14,
    "lastExecutedAt": 1696369927842,
    "lastScheduledRunId": null,
    "lastSuccessfullyExecutedCode": "# applying Ridge\nridge = Ridge()\nridge = ridge.fit(X_train.reshape(-1, 1), y_train)\ny_pred_ridge = ridge.predict(X_valid.reshape(-1, 1))\nprint(\"mse Ridge : \", mean_squared_error(y_pred_ridge, y_valid))",
    "nbgrader": {
     "cell_type": "code",
     "checksum": "9ccf1708eb35710177ef2af7ef58d46f",
     "grade": true,
     "grade_id": "cell-6dab57b6bf3e3228",
     "locked": false,
     "points": 0,
     "schema_version": 3,
     "solution": true,
     "task": false
    },
    "outputsMetadata": {
     "0": {
      "height": 36,
      "type": "stream"
     }
    }
   },
   "outputs": [
    {
     "name": "stdout",
     "output_type": "stream",
     "text": [
      "mse Ridge :  3.3007050723459104\n"
     ]
    }
   ],
   "source": [
    "# applying Ridge\n",
    "ridge = Ridge()\n",
    "ridge = ridge.fit(X_train.reshape(-1, 1), y_train)\n",
    "y_pred_ridge = ridge.predict(X_valid.reshape(-1, 1))\n",
    "print(\"mse Ridge : \", mean_squared_error(y_pred_ridge, y_valid))"
   ]
  },
  {
   "cell_type": "code",
   "execution_count": 22,
   "id": "6b9e8e4f-b541-458a-ba85-c64fb20d7eb3",
   "metadata": {
    "executionCancelledAt": null,
    "executionTime": 52,
    "lastExecutedAt": 1696369927894,
    "lastScheduledRunId": null,
    "lastSuccessfullyExecutedCode": "# simple use for PolynomialFeatures instead of np.vander\npoly = PolynomialFeatures(degree=2)\n\n# Transform the feature matrix\nX_poly = poly.fit_transform(np.array([1, 2, 3]).reshape(-1, 1))\nX_poly"
   },
   "outputs": [
    {
     "data": {
      "text/plain": [
       "array([[1., 1., 1.],\n",
       "       [1., 2., 4.],\n",
       "       [1., 3., 9.]])"
      ]
     },
     "execution_count": 22,
     "metadata": {},
     "output_type": "execute_result"
    }
   ],
   "source": [
    "# simple use for PolynomialFeatures instead of np.vander\n",
    "poly = PolynomialFeatures(degree=2)\n",
    "\n",
    "# Transform the feature matrix\n",
    "X_poly = poly.fit_transform(np.array([1, 2, 3]).reshape(-1, 1))\n",
    "X_poly"
   ]
  },
  {
   "cell_type": "code",
   "execution_count": null,
   "id": "a575dc7c",
   "metadata": {},
   "outputs": [],
   "source": []
  },
  {
   "cell_type": "code",
   "execution_count": null,
   "id": "30b263e8",
   "metadata": {},
   "outputs": [],
   "source": []
  }
 ],
 "metadata": {
  "editor": "DataCamp Workspace",
  "kernelspec": {
   "display_name": "Python 3.8.8 ('base')",
   "language": "python",
   "name": "python3"
  },
  "language_info": {
   "codemirror_mode": {
    "name": "ipython",
    "version": 3
   },
   "file_extension": ".py",
   "mimetype": "text/x-python",
   "name": "python",
   "nbconvert_exporter": "python",
   "pygments_lexer": "ipython3",
   "version": "3.8.8"
  },
  "vscode": {
   "interpreter": {
    "hash": "d3a944cc3058aa50c0aca891e5a7b77ff393d72d074c3644bd97999f32c63dcd"
   }
  }
 },
 "nbformat": 4,
 "nbformat_minor": 5
}
